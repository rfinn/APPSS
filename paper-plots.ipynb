{
 "cells": [
  {
   "cell_type": "markdown",
   "metadata": {},
   "source": [
    "https://python-graph-gallery.com/134-how-to-avoid-overplotting-with-python/\n",
    "http://cxhernandez.com/tutorials/dataviz/2014/11/19/jointplot-d3.html"
   ]
  },
  {
   "cell_type": "code",
   "execution_count": 141,
   "metadata": {},
   "outputs": [],
   "source": [
    "from astropy.io import fits\n",
    "from astropy.io import ascii\n",
    "from matplotlib import pyplot as plt\n",
    "from astropy import constants as c\n",
    "from astropy import units as u\n",
    "import numpy as np"
   ]
  },
  {
   "cell_type": "code",
   "execution_count": 142,
   "metadata": {},
   "outputs": [],
   "source": [
    "agc_path = '/Users/rfinn/Dropbox/Research/APPSS/SDSSphotcatalogs/'\n",
    "\n",
    "#a100\n",
    "agc_name = agc_path+'a100.code12.SDSSvalues190516.csv'\n",
    "#agc_name = agc_path+'a100-SDSS-catalog-mco190725.fits'\n",
    "mh_agc = ascii.read(agc_name)\n",
    "\n",
    "#a100\n",
    "#agc_name = agc_path+'a100.code12.SDSSvalues190516.csv'\n",
    "agc_name = agc_path+'a100-SDSS-catalog-mco190725.fits'\n",
    "agc = fits.getdata(agc_name,1)\n",
    "\n",
    "# nsa\n",
    "nsa_path = '/Users/rfinn/research/NSA/'\n",
    "nsa_name = nsa_path+'nsa_v0_1_2.fits'\n",
    "nsa = fits.getdata(nsa_name)\n",
    "nsa_gi = nsa['ABSMAG'][:,3] - nsa['ABSMAG'][:,5]\n",
    "h=.7\n",
    "nsa_logstellarmassTaylor=1.15+0.70*(nsa['ABSMAG'][:,3]-nsa['ABSMAG'][:,5]) -0.4*(nsa['ABSMAG'][:,5]+ 5.*np.log10(h))"
   ]
  },
  {
   "cell_type": "code",
   "execution_count": 13,
   "metadata": {},
   "outputs": [
    {
     "data": {
      "text/plain": [
       "ColDefs(\n",
       "    name = 'AGC'; format = 'J'\n",
       "    name = 'objID'; format = 'K'; null = -9223372036854775808\n",
       "    name = 'parentID'; format = 'K'; null = -9223372036854775808\n",
       "    name = 'specObjID'; format = 'K'; null = -9223372036854775808\n",
       "    name = 'ra'; format = 'D'\n",
       "    name = 'dec'; format = 'D'\n",
       "    name = 'modelMag_u'; format = 'D'\n",
       "    name = 'modelMag_g'; format = 'D'\n",
       "    name = 'modelMag_r'; format = 'D'\n",
       "    name = 'modelMag_i'; format = 'D'\n",
       "    name = 'modelMag_z'; format = 'D'\n",
       "    name = 'modelMagErr_u'; format = 'D'\n",
       "    name = 'modelMagErr_g'; format = 'D'\n",
       "    name = 'modelMagErr_r'; format = 'D'\n",
       "    name = 'modelMagErr_i'; format = 'D'\n",
       "    name = 'modelMagErr_z'; format = 'D'\n",
       "    name = 'cModelMag_u'; format = 'D'\n",
       "    name = 'cModelMag_g'; format = 'D'\n",
       "    name = 'cModelMag_r'; format = 'D'\n",
       "    name = 'cModelMag_i'; format = 'D'\n",
       "    name = 'cModelMag_z'; format = 'D'\n",
       "    name = 'cModelMagErr_u'; format = 'D'\n",
       "    name = 'cModelMagErr_g'; format = 'D'\n",
       "    name = 'cModelMagErr_r'; format = 'D'\n",
       "    name = 'cModelMagErr_i'; format = 'D'\n",
       "    name = 'cModelMagErr_z'; format = 'D'\n",
       "    name = 'petroMag_u'; format = 'D'\n",
       "    name = 'petroMag_g'; format = 'D'\n",
       "    name = 'petroMag_r'; format = 'D'\n",
       "    name = 'petroMag_i'; format = 'D'\n",
       "    name = 'petroMag_z'; format = 'D'\n",
       "    name = 'petroMagErr_u'; format = 'D'\n",
       "    name = 'petroMagErr_g'; format = 'D'\n",
       "    name = 'petroMagErr_r'; format = 'D'\n",
       "    name = 'petroMagErr_i'; format = 'D'\n",
       "    name = 'petroMagErr_z'; format = 'D'\n",
       "    name = 'petroRad_u'; format = 'D'\n",
       "    name = 'petroRad_g'; format = 'D'\n",
       "    name = 'petroRad_r'; format = 'D'\n",
       "    name = 'petroRad_i'; format = 'D'\n",
       "    name = 'petroRad_z'; format = 'D'\n",
       "    name = 'petroR50_g'; format = 'D'\n",
       "    name = 'petroR50_r'; format = 'D'\n",
       "    name = 'petroR50_i'; format = 'D'\n",
       "    name = 'petroR90_g'; format = 'D'\n",
       "    name = 'petroR90_r'; format = 'D'\n",
       "    name = 'petroR90_i'; format = 'D'\n",
       "    name = 'extinction_u'; format = 'D'\n",
       "    name = 'extinction_g'; format = 'D'\n",
       "    name = 'extinction_r'; format = 'D'\n",
       "    name = 'extinction_i'; format = 'D'\n",
       "    name = 'extinction_z'; format = 'D'\n",
       "    name = 'expAB_g'; format = 'D'\n",
       "    name = 'expAB_r'; format = 'D'\n",
       "    name = 'expAB_i'; format = 'D'\n",
       "    name = 'expMag_g'; format = 'D'\n",
       "    name = 'expMag_r'; format = 'D'\n",
       "    name = 'expMag_i'; format = 'D'\n",
       "    name = 'flags_u'; format = 'K'; null = -9223372036854775808\n",
       "    name = 'flags_g'; format = 'K'; null = -9223372036854775808\n",
       "    name = 'flags_r'; format = 'K'; null = -9223372036854775808\n",
       "    name = 'flags_i'; format = 'K'; null = -9223372036854775808\n",
       "    name = 'flags_z'; format = 'K'; null = -9223372036854775808\n",
       "    name = 'flags'; format = 'K'; null = -9223372036854775808\n",
       "    name = 'lnLExp_r'; format = 'D'\n",
       "    name = 'lnLDeV_r'; format = 'D'\n",
       "    name = 'type'; format = 'I'; null = -32768\n",
       "    name = 'fracDev_g'; format = 'D'\n",
       "    name = 'fracDev_r'; format = 'D'\n",
       "    name = 'fracDev_i'; format = 'D'\n",
       "    name = 'expRad_g'; format = 'D'\n",
       "    name = 'expRad_r'; format = 'D'\n",
       "    name = 'expRad_i'; format = 'D'\n",
       "    name = 'AGCNr'; format = 'J'\n",
       "    name = 'Name'; format = '8A'\n",
       "    name = 'RAdeg_HI'; format = 'D'\n",
       "    name = 'DECdeg_HI'; format = 'D'\n",
       "    name = 'RAdeg_OC'; format = 'D'\n",
       "    name = 'DECdeg_OC'; format = 'D'\n",
       "    name = 'Vhelio'; format = 'I'\n",
       "    name = 'W50'; format = 'I'\n",
       "    name = 'sigW'; format = 'I'\n",
       "    name = 'W20'; format = 'I'\n",
       "    name = 'HIflux'; format = 'E'\n",
       "    name = 'sigflux'; format = 'E'\n",
       "    name = 'SNR'; format = 'E'\n",
       "    name = 'RMS'; format = 'E'\n",
       "    name = 'Dist'; format = 'E'\n",
       "    name = 'sigDist'; format = 'E'\n",
       "    name = 'logMH'; format = 'E'\n",
       "    name = 'siglogMH'; format = 'E'\n",
       "    name = 'HIcode'; format = 'I'\n",
       "    name = 'photFlag_gi'; format = 'I'\n",
       "    name = 'mw_extinction_g'; format = 'D'\n",
       "    name = 'mw_extinction_i'; format = 'D'\n",
       "    name = 'absMag_g'; format = 'D'\n",
       "    name = 'absMag_i'; format = 'D'\n",
       "    name = 'gmi_no_int'; format = 'D'\n",
       "    name = 'gamma_g'; format = 'D'\n",
       "    name = 'gamma_i'; format = 'D'\n",
       "    name = 'int_extinction_g'; format = 'D'\n",
       "    name = 'int_extinction_i'; format = 'D'\n",
       "    name = 'G_corrected'; format = 'D'\n",
       "    name = 'I_corrected'; format = 'D'\n",
       "    name = 'gmi_corrected'; format = 'D'\n",
       "    name = 'G_Shao'; format = 'D'\n",
       "    name = 'I_Shao'; format = 'D'\n",
       "    name = 'gmi_Shao'; format = 'D'\n",
       "    name = 'G_halfShao'; format = 'D'\n",
       "    name = 'I_halfShao'; format = 'D'\n",
       "    name = 'Gmi_halfShao'; format = 'D'\n",
       "    name = 'LogMstarTaylor'; format = 'D'\n",
       "    name = 'MstarTaylor'; format = 'D'\n",
       "    name = 'HImass'; format = 'D'\n",
       ")"
      ]
     },
     "execution_count": 13,
     "metadata": {},
     "output_type": "execute_result"
    }
   ],
   "source": [
    "agc.columns"
   ]
  },
  {
   "cell_type": "markdown",
   "metadata": {},
   "source": [
    "## Comparing Martha and Mary's Catalogs ##\n",
    "\n",
    "* Martha's A100 catalog has 31503 sources.\n",
    "* Mary's catalog has 31502 sources.\n",
    "* Mary's catalog has one fewer source.\n",
    "\n",
    "Going to use Mary's catalog because it has the AGC columns appended already."
   ]
  },
  {
   "cell_type": "code",
   "execution_count": 17,
   "metadata": {},
   "outputs": [
    {
     "name": "stdout",
     "output_type": "stream",
     "text": [
      "31503 31502\n"
     ]
    }
   ],
   "source": [
    "print(len(mh_agc),len(agc))"
   ]
  },
  {
   "cell_type": "code",
   "execution_count": 18,
   "metadata": {},
   "outputs": [
    {
     "data": {
      "text/plain": [
       "ColDefs(\n",
       "    name = 'IAUNAME'; format = '19A'\n",
       "    name = 'SUBDIR'; format = '27A'\n",
       "    name = 'RA'; format = 'D'\n",
       "    name = 'DEC'; format = 'D'\n",
       "    name = 'ISDSS'; format = 'J'\n",
       "    name = 'INED'; format = 'J'\n",
       "    name = 'ISIXDF'; format = 'J'\n",
       "    name = 'IALFALFA'; format = 'J'\n",
       "    name = 'IZCAT'; format = 'J'\n",
       "    name = 'ITWODF'; format = 'J'\n",
       "    name = 'MAG'; format = 'E'\n",
       "    name = 'Z'; format = 'E'\n",
       "    name = 'ZSRC'; format = '7A'\n",
       "    name = 'SIZE'; format = 'E'\n",
       "    name = 'RUN'; format = 'I'\n",
       "    name = 'CAMCOL'; format = 'B'\n",
       "    name = 'FIELD'; format = 'I'\n",
       "    name = 'RERUN'; format = '3A'\n",
       "    name = 'XPOS'; format = 'E'\n",
       "    name = 'YPOS'; format = 'E'\n",
       "    name = 'ZLG'; format = 'E'\n",
       "    name = 'ZDIST'; format = 'E'\n",
       "    name = 'ZDIST_ERR'; format = 'E'\n",
       "    name = 'NSAID'; format = 'J'\n",
       "    name = 'NMGY'; format = '7E'\n",
       "    name = 'NMGY_IVAR'; format = '7E'\n",
       "    name = 'OK'; format = 'I'\n",
       "    name = 'RNMGY'; format = '7E'\n",
       "    name = 'ABSMAG'; format = '7E'\n",
       "    name = 'AMIVAR'; format = '7E'\n",
       "    name = 'EXTINCTION'; format = '7E'\n",
       "    name = 'KCORRECT'; format = '7E'\n",
       "    name = 'KCOEFF'; format = '5E'\n",
       "    name = 'MTOL'; format = '7E'\n",
       "    name = 'B300'; format = 'E'\n",
       "    name = 'B1000'; format = 'E'\n",
       "    name = 'METS'; format = 'E'\n",
       "    name = 'MASS'; format = 'E'\n",
       "    name = 'XCEN'; format = 'D'\n",
       "    name = 'YCEN'; format = 'D'\n",
       "    name = 'NPROF'; format = '7E'\n",
       "    name = 'PROFMEAN'; format = '105E'; dim = '( 7, 15)'\n",
       "    name = 'PROFMEAN_IVAR'; format = '105E'; dim = '( 7, 15)'\n",
       "    name = 'QSTOKES'; format = '105E'; dim = '( 7, 15)'\n",
       "    name = 'USTOKES'; format = '105E'; dim = '( 7, 15)'\n",
       "    name = 'BASTOKES'; format = '105E'; dim = '( 7, 15)'\n",
       "    name = 'PHISTOKES'; format = '105E'; dim = '( 7, 15)'\n",
       "    name = 'PETROFLUX'; format = '7E'\n",
       "    name = 'PETROFLUX_IVAR'; format = '7E'\n",
       "    name = 'FIBERFLUX'; format = '7E'\n",
       "    name = 'FIBERFLUX_IVAR'; format = '7E'\n",
       "    name = 'BA50'; format = 'E'\n",
       "    name = 'PHI50'; format = 'E'\n",
       "    name = 'BA90'; format = 'E'\n",
       "    name = 'PHI90'; format = 'E'\n",
       "    name = 'SERSICFLUX'; format = '7E'\n",
       "    name = 'SERSICFLUX_IVAR'; format = '7E'\n",
       "    name = 'SERSIC_N'; format = 'E'\n",
       "    name = 'SERSIC_BA'; format = 'E'\n",
       "    name = 'SERSIC_PHI'; format = 'E'\n",
       "    name = 'ASYMMETRY'; format = '7E'\n",
       "    name = 'CLUMPY'; format = '7E'\n",
       "    name = 'DFLAGS'; format = '7J'\n",
       "    name = 'AID'; format = 'J'\n",
       "    name = 'PID'; format = 'J'\n",
       "    name = 'DVERSION'; format = '8A'\n",
       "    name = 'PROFTHETA'; format = '15E'\n",
       "    name = 'PETROTHETA'; format = 'E'\n",
       "    name = 'PETROTH50'; format = 'E'\n",
       "    name = 'PETROTH90'; format = 'E'\n",
       "    name = 'SERSIC_TH50'; format = 'E'\n",
       "    name = 'OBJNO'; format = 'J'\n",
       "    name = 'PLATE'; format = 'J'\n",
       "    name = 'FIBERID'; format = 'J'\n",
       "    name = 'MJD'; format = 'J'\n",
       "    name = 'COEFF'; format = '7E'\n",
       "    name = 'VDISP'; format = 'E'\n",
       "    name = 'D4000'; format = 'E'\n",
       "    name = 'D4000ERR'; format = 'E'\n",
       "    name = 'FA'; format = 'E'\n",
       "    name = 'FAERR'; format = 'E'\n",
       "    name = 'S2FLUX'; format = 'E'\n",
       "    name = 'S2FLUXERR'; format = 'E'\n",
       "    name = 'S2EW'; format = 'E'\n",
       "    name = 'S2EWERR'; format = 'E'\n",
       "    name = 'S2VMEAS'; format = 'E'\n",
       "    name = 'S2VMERR'; format = 'E'\n",
       "    name = 'S2RATIO'; format = 'E'\n",
       "    name = 'HAFLUX'; format = 'E'\n",
       "    name = 'HAFLUXERR'; format = 'E'\n",
       "    name = 'HAEW'; format = 'E'\n",
       "    name = 'HAEWERR'; format = 'E'\n",
       "    name = 'HAVMEAS'; format = 'E'\n",
       "    name = 'HAVMERR'; format = 'E'\n",
       "    name = 'N2FLUX'; format = 'E'\n",
       "    name = 'N2FLUXERR'; format = 'E'\n",
       "    name = 'N2EW'; format = 'E'\n",
       "    name = 'N2EWERR'; format = 'E'\n",
       "    name = 'N2VMEAS'; format = 'E'\n",
       "    name = 'N2VMERR'; format = 'E'\n",
       "    name = 'HBFLUX'; format = 'E'\n",
       "    name = 'HBFLUXERR'; format = 'E'\n",
       "    name = 'HBEW'; format = 'E'\n",
       "    name = 'HBEWERR'; format = 'E'\n",
       "    name = 'HBVMEAS'; format = 'E'\n",
       "    name = 'HBVMERR'; format = 'E'\n",
       "    name = 'O1FLUX'; format = 'E'\n",
       "    name = 'O1FLUXERR'; format = 'E'\n",
       "    name = 'O1EW'; format = 'E'\n",
       "    name = 'O1EWERR'; format = 'E'\n",
       "    name = 'O1VMEAS'; format = 'E'\n",
       "    name = 'O1VMERR'; format = 'E'\n",
       "    name = 'O2FLUX'; format = 'E'\n",
       "    name = 'O2FLUXERR'; format = 'E'\n",
       "    name = 'O2EW'; format = 'E'\n",
       "    name = 'O2EWERR'; format = 'E'\n",
       "    name = 'O2VMEAS'; format = 'E'\n",
       "    name = 'O2VMERR'; format = 'E'\n",
       "    name = 'O3FLUX'; format = 'E'\n",
       "    name = 'O3FLUXERR'; format = 'E'\n",
       "    name = 'O3EW'; format = 'E'\n",
       "    name = 'O3EWERR'; format = 'E'\n",
       "    name = 'O3VMEAS'; format = 'E'\n",
       "    name = 'O3VMERR'; format = 'E'\n",
       "    name = 'AHGEW'; format = 'E'\n",
       "    name = 'AHGEWERR'; format = 'E'\n",
       "    name = 'AHDEW'; format = 'E'\n",
       "    name = 'AHDEWERR'; format = 'E'\n",
       "    name = 'NE3EW'; format = 'E'\n",
       "    name = 'NE3EWERR'; format = 'E'\n",
       "    name = 'NE5EW'; format = 'E'\n",
       "    name = 'NE5EWERR'; format = 'E'\n",
       "    name = 'AV'; format = 'E'\n",
       "    name = 'S2NSAMP'; format = 'E'\n",
       "    name = 'RACAT'; format = 'D'\n",
       "    name = 'DECCAT'; format = 'D'\n",
       "    name = 'ZSDSSLINE'; format = 'E'\n",
       "    name = 'SURVEY'; format = '6A'\n",
       "    name = 'PROGRAMNAME'; format = '23A'\n",
       "    name = 'PLATEQUALITY'; format = '8A'\n",
       "    name = 'TILE'; format = 'J'\n",
       "    name = 'PLUG_RA'; format = 'D'\n",
       "    name = 'PLUG_DEC'; format = 'D'\n",
       ")"
      ]
     },
     "execution_count": 18,
     "metadata": {},
     "output_type": "execute_result"
    }
   ],
   "source": [
    "nsa.columns"
   ]
  },
  {
   "cell_type": "code",
   "execution_count": 204,
   "metadata": {},
   "outputs": [
    {
     "name": "stderr",
     "output_type": "stream",
     "text": [
      "//anaconda/envs/py36/lib/python3.6/site-packages/ipykernel_launcher.py:10: RuntimeWarning: invalid value encountered in greater\n",
      "  # Remove the CWD from sys.path while we load stuff.\n",
      "//anaconda/envs/py36/lib/python3.6/site-packages/ipykernel_launcher.py:10: RuntimeWarning: invalid value encountered in less\n",
      "  # Remove the CWD from sys.path while we load stuff.\n",
      "//anaconda/envs/py36/lib/python3.6/site-packages/ipykernel_launcher.py:17: RuntimeWarning: divide by zero encountered in log10\n",
      "//anaconda/envs/py36/lib/python3.6/site-packages/ipykernel_launcher.py:18: RuntimeWarning: divide by zero encountered in true_divide\n",
      "//anaconda/envs/py36/lib/python3.6/site-packages/ipykernel_launcher.py:18: RuntimeWarning: overflow encountered in true_divide\n",
      "//anaconda/envs/py36/lib/python3.6/site-packages/ipykernel_launcher.py:18: RuntimeWarning: invalid value encountered in true_divide\n",
      "//anaconda/envs/py36/lib/python3.6/site-packages/ipykernel_launcher.py:18: RuntimeWarning: invalid value encountered in greater\n"
     ]
    }
   ],
   "source": [
    "# define flag for keeping both samples\n",
    "ramin = 120.\n",
    "ramax = 240.\n",
    "decmin = 0.\n",
    "decmax = 36.\n",
    "zmax = 0.05\n",
    "ra = agc['ra']\n",
    "dec = agc['dec']\n",
    "redshift = agc['Vhelio']/c.c.value\n",
    "keepagc = (ra > ramin) & (ra < ramax) & (dec > decmin) & (dec < decmax) & (redshift < .05) & (agc['modelMagErr_g'] < .01) & (agc['modelMagErr_i'] < .01)\n",
    "\n",
    "# repeat for NSA\n",
    "ra = nsa['RA']\n",
    "dec = nsa['DEC']\n",
    "redshift = nsa['ZDIST']\n",
    "\n",
    "nsamagflag = (2.5*np.log10(np.sqrt(nsa['NMGY_IVAR'][:,3])) < .1) & (2.5*np.log10(np.sqrt(nsa['NMGY_IVAR'][:,5])) < .1)\n",
    "nsamagflag = (nsa['NMGY'][:,3]/nsa['NMGY_IVAR'][:,3] > 20.) & (nsa['NMGY'][:,5]/nsa['NMGY_IVAR'][:,5] > 20.)\n",
    "keepnsa = (ra > ramin) & (ra < ramax) & (dec > decmin) & (dec < decmax) & (redshift < .05) & nsamagflag & (nsa_gi > -1) & (nsa_gi < 2.5)\n",
    "\n"
   ]
  },
  {
   "cell_type": "markdown",
   "metadata": {},
   "source": [
    "### Plot g-i corrected vs stellar mass ###"
   ]
  },
  {
   "cell_type": "code",
   "execution_count": 75,
   "metadata": {},
   "outputs": [
    {
     "data": {
      "text/plain": [
       "19101"
      ]
     },
     "execution_count": 75,
     "metadata": {},
     "output_type": "execute_result"
    }
   ],
   "source": [
    "sum(keepagc)"
   ]
  },
  {
   "cell_type": "code",
   "execution_count": 219,
   "metadata": {
    "scrolled": true
   },
   "outputs": [
    {
     "name": "stderr",
     "output_type": "stream",
     "text": [
      "//anaconda/envs/py36/lib/python3.6/site-packages/matplotlib/contour.py:960: UserWarning: The following kwargs were not used by contour: 'label'\n",
      "  s)\n",
      "//anaconda/envs/py36/lib/python3.6/site-packages/matplotlib/axes/_axes.py:6462: UserWarning: The 'normed' kwarg is deprecated, and has been replaced by the 'density' kwarg.\n",
      "  warnings.warn(\"The 'normed' kwarg is deprecated, and has been \"\n",
      "//anaconda/envs/py36/lib/python3.6/site-packages/matplotlib/axes/_axes.py:6462: UserWarning: The 'normed' kwarg is deprecated, and has been replaced by the 'density' kwarg.\n",
      "  warnings.warn(\"The 'normed' kwarg is deprecated, and has been \"\n",
      "//anaconda/envs/py36/lib/python3.6/site-packages/matplotlib/axes/_axes.py:6462: UserWarning: The 'normed' kwarg is deprecated, and has been replaced by the 'density' kwarg.\n",
      "  warnings.warn(\"The 'normed' kwarg is deprecated, and has been \"\n",
      "//anaconda/envs/py36/lib/python3.6/site-packages/matplotlib/axes/_axes.py:6462: UserWarning: The 'normed' kwarg is deprecated, and has been replaced by the 'density' kwarg.\n",
      "  warnings.warn(\"The 'normed' kwarg is deprecated, and has been \"\n"
     ]
    },
    {
     "data": {
      "image/png": "[encoded data removed]",
      "text/plain": [
       "<Figure size 576x576 with 3 Axes>"
      ]
     },
     "metadata": {},
     "output_type": "display_data"
    }
   ],
   "source": [
    "fig = plt.figure(figsize=(8,8))\n",
    "\n",
    "nrow = 4\n",
    "ncol = 4\n",
    "# central panel\n",
    "xvar = agc['LogMstarTaylor'][keepagc]\n",
    "yvar = agc['gmi_corrected'][keepagc]\n",
    "\n",
    "xvar2 = nsa_logstellarmassTaylor[keepnsa]\n",
    "yvar2 = nsa_gi[keepnsa]\n",
    "\n",
    "\n",
    "ax1 = plt.subplot2grid((nrow,ncol),(1,0),rowspan=nrow-1,colspan=ncol-1, fig=fig)\n",
    "#plt.plot(xvar2,yvar2,'b.',alpha=.3, label='NSA')\n",
    "#plt.plot(xvar,yvar,'k.',alpha=.1,label='AGC', zorder=2)\n",
    "\n",
    "\n",
    "#t1 = plt.hist2d(xvar,yvar,bins=100,cmap='gray_r')\n",
    "#H, xbins,ybins = np.histogram2d(xvar,yvar,bins=20)\n",
    "#extent = [xbins[0], xbins[-1], ybins[0], ybins[-1]]\n",
    "#plt.contour(np.log10(H.T+1),  10, extent = extent, zorder=1,colors='k')\n",
    "#plt.hexbin(xvar2,yvar2,bins='log',cmap='Blues', gridsize=100)\n",
    "plt.hexbin(xvar,yvar,bins='log',cmap='gray_r', gridsize=75,label='AGC')\n",
    "H, xbins,ybins = np.histogram2d(xvar2,yvar2,bins=40)\n",
    "extent = [xbins[0], xbins[-1], ybins[0], ybins[-1]]\n",
    "plt.contour((H.T), 5, extent = extent, zorder=1,colors='c', label='NSA')\n",
    "\n",
    "#sns.kdeplot(agc['LogMstarTaylor'][keepagc],agc['gmi_corrected'][keepagc])#,bins='log',gridsize=200,cmap='blue_r')\n",
    "#plt.colorbar()\n",
    "#plt.legend()\n",
    "plt.axis([7.9,11.6,-.05,2])\n",
    "plt.xticks(fontsize=12)\n",
    "plt.yticks(fontsize=12)\n",
    "plt.xlabel('$\\log_{10}(M_\\star/M_\\odot) $',fontsize=20)\n",
    "plt.ylabel('$(g-i)_{corrected} $',fontsize=20)\n",
    "plt.axis([7.9,11.6,-.05,2])\n",
    "ax2 = plt.subplot2grid((nrow,ncol),(0,0),rowspan=1,colspan=ncol-1, fig=fig, sharex = ax1, yticks=[])\n",
    "t = plt.hist(xvar, normed=True, bins=100,color='k',histtype='step',lw=1.5)\n",
    "t = plt.hist(xvar2, normed=True, bins=100,color='c',histtype='step',lw=1.5)\n",
    "ax2.xaxis.tick_top()\n",
    "ax3 = plt.subplot2grid((nrow,ncol),(1,ncol-1),rowspan=nrow-1,colspan=1, fig=fig, sharey = ax1, xticks=[])\n",
    "t=plt.hist(yvar, normed=True, orientation='horizontal',bins=100,color='k',histtype='step',lw=1.5)\n",
    "t=plt.hist(yvar2, normed=True, orientation='horizontal',bins=100,color='c',histtype='step',lw=1.5)\n",
    "plt.yticks(rotation='horizontal')\n",
    "ax3.yaxis.tick_right()\n",
    "plt.savefig('agc-nsa-color-mass.png')"
   ]
  },
  {
   "cell_type": "code",
   "execution_count": 217,
   "metadata": {},
   "outputs": [
    {
     "data": {
      "text/plain": [
       "Text(336.971,0.5,'$(g-i)_{corrected} $')"
      ]
     },
     "execution_count": 217,
     "metadata": {},
     "output_type": "execute_result"
    },
    {
     "data": {
      "image/png": "[encoded data removed]",
      "text/plain": [
       "<Figure size 432x432 with 3 Axes>"
      ]
     },
     "metadata": {},
     "output_type": "display_data"
    }
   ],
   "source": [
    "sns.jointplot(x=agc['LogMstarTaylor'][keepagc], y=agc['gmi_corrected'][keepagc], kind='kde', color=\"skyblue\")\n",
    "plt.xlabel('$\\log_{10}(M_\\star/M_\\odot) $',fontsize=20)\n",
    "plt.ylabel('$(g-i)_{corrected} $',fontsize=20)"
   ]
  },
  {
   "cell_type": "code",
   "execution_count": null,
   "metadata": {},
   "outputs": [],
   "source": []
  }
 ],
 "metadata": {
  "kernelspec": {
   "display_name": "Python 3",
   "language": "python",
   "name": "python3"
  },
  "language_info": {
   "codemirror_mode": {
    "name": "ipython",
    "version": 3
   },
   "file_extension": ".py",
   "mimetype": "text/x-python",
   "name": "python",
   "nbconvert_exporter": "python",
   "pygments_lexer": "ipython3",
   "version": "3.6.5"
  }
 },
 "nbformat": 4,
 "nbformat_minor": 2
}

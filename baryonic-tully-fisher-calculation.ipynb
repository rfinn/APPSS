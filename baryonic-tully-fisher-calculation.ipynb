{
 "cells": [
  {
   "cell_type": "markdown",
   "metadata": {},
   "source": [
    "# Baryonic Tully-Fisher Relation #\n",
    "\n",
    "The goal of this notebook is to demonstrate how to calculate the baryonic tully-fisher distance for a galaxy in APPSS.  The BTF predicts the total baryonic mass based on the 21-cm line width.  If we have expressions for the stellar mass and HI mass in terms of the distance to the galaxy, then we can solve for distance."
   ]
  },
  {
   "cell_type": "code",
   "execution_count": 3,
   "metadata": {
    "collapsed": true
   },
   "outputs": [],
   "source": [
    "import numpy as np"
   ]
  },
  {
   "cell_type": "markdown",
   "metadata": {},
   "source": [
    "## Measure HI velocity width from HI spectrum (W$_{50}$) ##\n",
    "\n",
    "The HI velocity width in units of km/s."
   ]
  },
  {
   "cell_type": "code",
   "execution_count": 33,
   "metadata": {
    "collapsed": true
   },
   "outputs": [],
   "source": [
    "W50 = 100."
   ]
  },
  {
   "cell_type": "markdown",
   "metadata": {},
   "source": [
    "For convenience, I am going to list all of the other measured quantities that we need for each galaxy.  This will make it easier to calculate the distance for a different galaxy.  The values that I am using for this example are made up."
   ]
  },
  {
   "cell_type": "code",
   "execution_count": 43,
   "metadata": {
    "collapsed": true
   },
   "outputs": [],
   "source": [
    "ba = 0.33 # observed axis ratio of galaxy \n",
    "flux_HI = .505 # HI flux in units of Jy-km/s\n",
    "g = 15.29 # SDSS apparent g-band magnitude\n",
    "i = 14.19 # SDSS apparent i-band magnitude"
   ]
  },
  {
   "cell_type": "markdown",
   "metadata": {},
   "source": [
    "## Correct velocity width for inclination ##\n",
    "\n",
    "We assume that the spiral galaxies is similar to a pancake; they are circular when viewed face on, and they have a much smaller dimension perpendicular to their face.  \n",
    "\n",
    "The ellipticity that we observe is then due to the orientation of the galaxy.  We can express this observed elongation in terms of the axis ration of the galaxy, $b/a$.\n",
    "\n",
    "By definition, the inclination angle is the angle between your line of sight and the area vector that is oriented perpendicular to the plane of the galaxy.  The inclination angle is $0^\\circ$ for a face-on galaxy and $90^\\circ$ for an edge-on galaxy.\n",
    "\n",
    "We are using the relationship from Stark, McGaugh, & Swaters (2009) to relate the inclination angle to the observed axis ratio.\n",
    "\n",
    "$$ sin i = \\sqrt{\\frac{1 - (b/a)^2}{1 - 0.15^2} }$$"
   ]
  },
  {
   "cell_type": "code",
   "execution_count": 44,
   "metadata": {
    "collapsed": false
   },
   "outputs": [
    {
     "name": "stdout",
     "output_type": "stream",
     "text": [
      "inclination = 65.7 degrees\n"
     ]
    }
   ],
   "source": [
    "inclination = np.arcsin((1-ba**2)/(1-.15**2))\n",
    "print 'inclination = %.1f degrees'%(np.degrees(inclination))"
   ]
  },
  {
   "cell_type": "markdown",
   "metadata": {},
   "source": [
    "## Use BTF to get total baryonic mass ##\n",
    "\n",
    "Use calibration from Stark, McGaugh, & Swaters (2009; http://adsabs.harvard.edu/abs/2009AJ....138..392S) to get the baryonic mass\n",
    "\n",
    "$$\\log_{10} M_b = 3.94 \\log_{10} v_f + 1.79$$\n",
    "\n",
    "where \n",
    "\n",
    "$$ M_b = M_\\star + M_{gas} $$ \n",
    "\n",
    "and \n",
    "\n",
    "$$v_f = v_{obs}/sini $$\n",
    "\n",
    "$v_{obs}$ is $W_{50}$.\n"
   ]
  },
  {
   "cell_type": "code",
   "execution_count": 45,
   "metadata": {
    "collapsed": false
   },
   "outputs": [
    {
     "name": "stdout",
     "output_type": "stream",
     "text": [
      "log(Mb) = 9.83\n"
     ]
    }
   ],
   "source": [
    "vf = W50/np.sin((inclination))\n",
    "log_Mb = 3.94 * np.log10(vf) + 1.79\n",
    "print 'log(Mb) = %.2f'%(log_Mb)\n",
    "Mb = 10.**log_Mb"
   ]
  },
  {
   "cell_type": "markdown",
   "metadata": {},
   "source": [
    "## Get Expression for gas mass ##\n",
    "\n",
    "The gas mass should include both the molecular and atomic gas, where the molecular gas is traced by CO, for example, and the atomic gas mass is traced by HI.  For now we will approximate the gas mass as this HI mass, but we should add a correction to account for the molecular gas at a later date.  \n",
    "\n",
    "\n",
    "** HI Mass **\n",
    "\n",
    "We calculate the HI mass as a function of distance from the HI line flux (Roberts 1962), according to the conversion given here http://egg.astro.cornell.edu/alfalfa/ugrad/himass.htm.\n",
    "\n",
    "$$M_{HI} = 2.36 \\times 10^5 \\times F_{HI} \\times d_{Mpc}^2$$\n",
    "\n",
    "where $F_{HI}$ is the integrated flux from HI in units of Jy-km/s.\n"
   ]
  },
  {
   "cell_type": "code",
   "execution_count": 46,
   "metadata": {
    "collapsed": true
   },
   "outputs": [],
   "source": [
    "MHI_per_distance2 = 2.36e5 * flux_HI"
   ]
  },
  {
   "cell_type": "markdown",
   "metadata": {},
   "source": [
    "## Correct SDSS Magnitudes for Galactic and Internal Redenning ##\n",
    "\n",
    "We need to correct the observed SDSS magnitudes for galactic and internal redenning.  I haven't implemented this yet..."
   ]
  },
  {
   "cell_type": "markdown",
   "metadata": {},
   "source": [
    "## Estimate Stellar Mass ##\n",
    "\n",
    "\n",
    "Estimate the stellar mass using Taylor+2011 relation, express in terms of distance. (accuracy of 0.1 dex)  Taylor+2011 gives:\n",
    "\n",
    "$$\\log_{10} \\left( \\frac{M_\\star}{M_\\odot}\\right) = 1.15 + 0.70 (g-i) - 0.4 M_i $$\n",
    "\n",
    "and the distance modulus ($m - M = 5 \\log_{10}d_{pc} - 5$) gives:\n",
    "\n",
    "$$ M_i = m_i - 5 \\log_{10} d_{pc} + 5 = i - 5 \\log_{10} d_{pc} + 5 $$\n",
    "\n",
    "We can combine the above two equations to get:\n",
    "\n",
    "$$\\log_{10} \\left( \\frac{M_\\star}{M_\\odot}\\right) = 1.15 + 0.70 (g-i) - 0.4 (i - 5 \\log_{10} d_{pc} + 5 ) $$\n",
    "\n",
    "Distribute $-0.4$:\n",
    "$$\\log_{10} \\left( \\frac{M_\\star}{M_\\odot}\\right) = 1.15 + 0.70 (g-i) - 0.4 i + 2 \\log_{10} d_{pc} - 2  $$\n",
    "\n",
    "Bring factor in front of log inside the log for distance term:\n",
    "$$\\log_{10} \\left( \\frac{M_\\star}{M_\\odot}\\right) = 1.15 + 0.70 (g-i) - 0.4 i + \\log_{10} (d_{pc}^2) - 2  $$\n",
    "\n",
    "\n",
    "\n",
    "We want the distance to be in units of Mpc, so we can manipulate the $\\log_{10} (d_{pc}^2)$ expression (I have a sign issue here):\n",
    "\n",
    "$$\\log_{10} (d_{pc}^2) = \\log_{10} \\left(d_{pc}^2 \\left(\\frac{1~Mpc}{10^6~pc}\\right)^2\\right)  = \\log_{10} \\left( \\frac{d_{Mpc}^2}{10^{12}}\\right) = \\log_{10} \\left({d_{Mpc}^2}\\right) + 12 $$\n",
    "\n",
    "Going back and substituting into stellar mass equation gives:\n",
    "$$\\log_{10} \\left( \\frac{M_\\star}{M_\\odot}\\right) = \\log_{10} \\left({d_{Mpc}^2}\\right) + 12 + 1.15 + 0.70 (g-i) - 0.4 i  - 2  $$\n",
    "\n",
    "\n",
    "$$\\log_{10} \\left( \\frac{M_\\star}{M_\\odot}\\right) = \\log_{10} \\left({d_{Mpc}^2}\\right) + 1.15 + 0.70 (g-i) - 0.4 i  + 10  $$\n",
    "\n",
    "\n",
    "$$\\frac{M_\\star}{M_\\odot} = d_{Mpc}^2 \\times 10^{1.15 +0.7(g-i) - 0.4 i + 10}  $$\n"
   ]
  },
  {
   "cell_type": "code",
   "execution_count": 64,
   "metadata": {
    "collapsed": true
   },
   "outputs": [],
   "source": [
    "Mstar_per_distance2 = 10.**(1.15 + 0.7*(g-i) - 0.4*i +10)"
   ]
  },
  {
   "cell_type": "markdown",
   "metadata": {},
   "source": [
    "## Combine Mass Equations ##\n",
    "\n",
    "We can now combine the stellar mass and HI mass equations to get an expression for the baryonic mass in terms of distance.\n",
    "\n",
    "$$ M_b = d_{Mpc}^2 \\times 10^{1.15 +0.7(g-i) - 0.4 i - 14} + 2.36 \\times 10^5 \\times F_{HI} \\times d_{Mpc}^2 $$ \n",
    "\n",
    "$$ M_b = d_{Mpc}^2 \\left( 10^{1.15 +0.7(g-i) - 0.4 i - 14} + 2.36 \\times 10^5 \\times F_{HI} \\right) $$\n",
    "\n",
    "Solving for distance gives:\n",
    "\n",
    "$$d_{Mpc} = \\sqrt{ \\frac{M_b}{10^{1.15 +0.7(g-i) - 0.4 i - 14} + 2.36 \\times 10^5 \\times F_{HI}}} $$"
   ]
  },
  {
   "cell_type": "code",
   "execution_count": 65,
   "metadata": {
    "collapsed": false
   },
   "outputs": [
    {
     "name": "stdout",
     "output_type": "stream",
     "text": [
      "distance = 59.97 (Mpc)\n"
     ]
    }
   ],
   "source": [
    "distance_Mpc = np.sqrt(Mb/(Mstar_per_distance2 + MHI_per_distance2))\n",
    "print 'distance = %.2f (Mpc)' %(distance_Mpc)"
   ]
  },
  {
   "cell_type": "code",
   "execution_count": 66,
   "metadata": {
    "collapsed": false
   },
   "outputs": [
    {
     "name": "stdout",
     "output_type": "stream",
     "text": [
      "1753880.50184\n",
      "119180.0\n",
      "6735190287.81\n"
     ]
    }
   ],
   "source": [
    "print Mstar_per_distance2\n",
    "print MHI_per_distance2\n",
    "print Mb"
   ]
  },
  {
   "cell_type": "markdown",
   "metadata": {},
   "source": [
    "## In One Fell Swoop ##\n",
    "\n",
    "Here is all the code in two cells so you can calculate distances more quickly.  Of course, an even better idea is to write your own program."
   ]
  },
  {
   "cell_type": "code",
   "execution_count": 67,
   "metadata": {
    "collapsed": true
   },
   "outputs": [],
   "source": [
    "W50 = 100.\n",
    "ba = 0.33 # observed axis ratio of galaxy \n",
    "flux_HI = .505 # HI flux in units of Jy-km/s\n",
    "g = 15.29 # SDSS apparent g-band magnitude\n",
    "i = 14.19 # SDSS apparent i-band magnitude"
   ]
  },
  {
   "cell_type": "code",
   "execution_count": 63,
   "metadata": {
    "collapsed": false
   },
   "outputs": [
    {
     "name": "stdout",
     "output_type": "stream",
     "text": [
      "inclination = 65.7 degrees\n",
      "log(Mb) = 9.83\n",
      "distance = 59.97 (Mpc)\n"
     ]
    }
   ],
   "source": [
    "inclination = np.arcsin((1-ba**2)/(1-.15**2))\n",
    "print 'inclination = %.1f degrees'%(np.degrees(inclination))\n",
    "vf = W50/np.sin((inclination))\n",
    "log_Mb = 3.94 * np.log10(vf) + 1.79\n",
    "print 'log(Mb) = %.2f'%(log_Mb)\n",
    "Mb = 10.**log_Mb\n",
    "MHI_per_distance2 = 2.36e5 * flux_HI\n",
    "Mstar_per_distance2 = 10.**(1.15 + 0.7*(g-i) - 0.4*i +10)\n",
    "distance_Mpc = np.sqrt(Mb/(Mstar_per_distance2 + MHI_per_distance2))\n",
    "print 'distance = %.2f (Mpc)' %(distance_Mpc)"
   ]
  },
  {
   "cell_type": "code",
   "execution_count": null,
   "metadata": {
    "collapsed": true
   },
   "outputs": [],
   "source": []
  },
  {
   "cell_type": "code",
   "execution_count": null,
   "metadata": {
    "collapsed": true
   },
   "outputs": [],
   "source": []
  }
 ],
 "metadata": {
  "kernelspec": {
   "display_name": "Python [default]",
   "language": "python",
   "name": "python2"
  },
  "language_info": {
   "codemirror_mode": {
    "name": "ipython",
    "version": 2
   },
   "file_extension": ".py",
   "mimetype": "text/x-python",
   "name": "python",
   "nbconvert_exporter": "python",
   "pygments_lexer": "ipython2",
   "version": "2.7.13"
  }
 },
 "nbformat": 4,
 "nbformat_minor": 2
}

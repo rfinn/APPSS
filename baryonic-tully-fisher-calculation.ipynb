{
 "cells": [
  {
   "cell_type": "markdown",
   "metadata": {},
   "source": [
    "# Baryonic Tully-Fisher Relation #\n",
    "\n",
    "The goal of this notebook is to demonstrate how to calculate the baryonic tully-fisher distance for a galaxy in APPSS.  The BTF predicts the total baryonic mass based on the 21-cm line width.  If we have expressions for the stellar mass and HI mass in terms of the distance to the galaxy, then we can solve for distance."
   ]
  },
  {
   "cell_type": "code",
   "execution_count": 119,
   "metadata": {
    "collapsed": true
   },
   "outputs": [],
   "source": [
    "import numpy as np\n",
    "from matplotlib import pyplot as plt\n",
    "%matplotlib inline"
   ]
  },
  {
   "cell_type": "markdown",
   "metadata": {},
   "source": [
    "## Measure HI velocity width from HI spectrum (W$_{50}$) ##\n",
    "\n",
    "The HI velocity width in units of km/s."
   ]
  },
  {
   "cell_type": "code",
   "execution_count": 33,
   "metadata": {
    "collapsed": true
   },
   "outputs": [],
   "source": [
    "W50 = 272."
   ]
  },
  {
   "cell_type": "markdown",
   "metadata": {},
   "source": [
    "For convenience, I am going to list all of the other measured quantities that we need for each galaxy.  This will make it easier to calculate the distance for a different galaxy.  The values that I am using for this example are made up."
   ]
  },
  {
   "cell_type": "code",
   "execution_count": 98,
   "metadata": {
    "collapsed": false
   },
   "outputs": [],
   "source": [
    "ba = 0.67 # observed axis ratio of galaxy \n",
    "flux_HI = .89 # HI flux in units of Jy-km/s\n",
    "g = 15.29 # SDSS apparent g-band magnitude\n",
    "i = 14.19 # SDSS apparent i-band magnitude\n",
    "vr = 5287.\n",
    "\n",
    "# galactic extinction from NED\n",
    "# http://ned.ipac.caltech.edu/cgi-bin/objsearch?search_type=Obj_id&objid=6997&objname=1&img_stamp=YES&hconst=73.0&omegam=0.27&omegav=0.73&corr_z=1\n",
    "A_g = 0.369\n",
    "A_i = 0.19"
   ]
  },
  {
   "cell_type": "markdown",
   "metadata": {},
   "source": [
    "## Correct velocity width for inclination ##\n",
    "\n",
    "We assume that the spiral galaxies is similar to a pancake; they are circular when viewed face on, and they have a much smaller dimension perpendicular to their face.  \n",
    "\n",
    "The ellipticity that we observe is then due to the orientation of the galaxy.  We can express this observed elongation in terms of the axis ration of the galaxy, $b/a$.\n",
    "\n",
    "By definition, the inclination angle is the angle between your line of sight and the area vector that is oriented perpendicular to the plane of the galaxy.  The inclination angle is $0^\\circ$ for a face-on galaxy and $90^\\circ$ for an edge-on galaxy.\n",
    "\n",
    "We are using the relationship from Stark, McGaugh, & Swaters (2009) to relate the inclination angle to the observed axis ratio.\n",
    "\n",
    "$$ sin i = \\sqrt{\\frac{1 - (b/a)^2}{1 - 0.15^2} }$$"
   ]
  },
  {
   "cell_type": "code",
   "execution_count": 44,
   "metadata": {
    "collapsed": false
   },
   "outputs": [
    {
     "name": "stdout",
     "output_type": "stream",
     "text": [
      "inclination = 65.7 degrees\n"
     ]
    }
   ],
   "source": [
    "inclination = np.arcsin((1-ba**2)/(1-.15**2))\n",
    "print 'inclination = %.1f degrees'%(np.degrees(inclination))"
   ]
  },
  {
   "cell_type": "markdown",
   "metadata": {},
   "source": [
    "## Use BTF to get total baryonic mass ##\n",
    "\n",
    "Use calibration from Stark, McGaugh, & Swaters (2009; http://adsabs.harvard.edu/abs/2009AJ....138..392S) to get the baryonic mass\n",
    "\n",
    "$$\\log_{10} M_b = 3.94 \\log_{10} v_f + 1.79$$\n",
    "\n",
    "where \n",
    "\n",
    "$$ M_b = M_\\star + M_{gas} $$ \n",
    "\n",
    "and \n",
    "\n",
    "$$v_f = v_{obs}/sini $$\n",
    "\n",
    "$v_{obs}$ is $W_{50}$.\n"
   ]
  },
  {
   "cell_type": "code",
   "execution_count": 45,
   "metadata": {
    "collapsed": false
   },
   "outputs": [
    {
     "name": "stdout",
     "output_type": "stream",
     "text": [
      "log(Mb) = 9.83\n"
     ]
    }
   ],
   "source": [
    "vf = W50/np.sin((inclination))\n",
    "log_Mb = 3.94 * np.log10(vf) + 1.79\n",
    "print 'log(Mb) = %.2f'%(log_Mb)\n",
    "Mb = 10.**log_Mb"
   ]
  },
  {
   "cell_type": "markdown",
   "metadata": {},
   "source": [
    "## Get Expression for gas mass ##\n",
    "\n",
    "The gas mass should include both the molecular and atomic gas, where the molecular gas is traced by CO, for example, and the atomic gas mass is traced by HI.  For now we will approximate the gas mass as this HI mass, but we should add a correction to account for the molecular gas at a later date.  \n",
    "\n",
    "\n",
    "** HI Mass **\n",
    "\n",
    "We calculate the HI mass as a function of distance from the HI line flux (Roberts 1962), according to the conversion given here http://egg.astro.cornell.edu/alfalfa/ugrad/himass.htm.\n",
    "\n",
    "$$M_{HI} = 2.36 \\times 10^5 \\times F_{HI} \\times d_{Mpc}^2$$\n",
    "\n",
    "where $F_{HI}$ is the integrated flux from HI in units of Jy-km/s.\n",
    "\n",
    "\n",
    "Papastergis+2016 (https://www.aanda.org/articles/aa/full_html/2016/09/aa28410-16/aa28410-16.html) assume\n",
    "\n",
    "$$ M_{gas} = 1.33 \\times M_{HI} $$\n"
   ]
  },
  {
   "cell_type": "code",
   "execution_count": 46,
   "metadata": {
    "collapsed": true
   },
   "outputs": [],
   "source": [
    "MHI_per_distance2 = 2.36e5 * flux_HI"
   ]
  },
  {
   "cell_type": "markdown",
   "metadata": {},
   "source": [
    "## Correct SDSS Magnitudes for Galactic and Internal Redenning ##\n",
    "\n",
    "We need to correct the observed SDSS magnitudes for galactic and internal redenning.  \n",
    "\n",
    "Internal extinction correction from Gavazzi+2013\n",
    "\n",
    "https://www.aanda.org/articles/aa/pdf/2013/05/aa20916-12.pdf\n",
    "\n",
    "$$ (g - i)_{0} = (g - i) - \\left( +0.17 \\left[1 - cos(inclination) \\right] \\left[\\log\\left(\\frac{M_\\star}{M_\\odot} \\right) - 8.19 \\right] \\right) $$"
   ]
  },
  {
   "cell_type": "code",
   "execution_count": 103,
   "metadata": {
    "collapsed": false
   },
   "outputs": [
    {
     "name": "stdout",
     "output_type": "stream",
     "text": [
      "9.95092254078\n",
      "0.921 0.868045422458\n"
     ]
    }
   ],
   "source": [
    "# Galactic extinction\n",
    "\n",
    "i_corrected = i - A_i\n",
    "g_corrected = g - A_g\n",
    "\n",
    "#internal extinction\n",
    "\n",
    "H0 = 70. #km/s/Mpc\n",
    "d_estimate = vr/H0\n",
    "Mi_estimate = i_corrected - 5.*np.log10(d_estimate)\n",
    "log_mstar_estimate = 1.15 + 0.70*(g_corrected-i_corrected) - 0.4*(i_corrected - 5.*np.log10(d_estimate*1.e6)+5)\n",
    "print log_mstar_estimate\n",
    "gi_corrected = g_corrected - i_corrected - (0.17*(1 - np.cos(inclination))*(log_mstar_estimate - 8.19))\n",
    "print g_corrected-i_corrected,gi_corrected"
   ]
  },
  {
   "cell_type": "markdown",
   "metadata": {},
   "source": [
    "## Estimate Stellar Mass ##\n",
    "\n",
    "\n",
    "Estimate the stellar mass using Taylor+2011 (http://adsabs.harvard.edu/abs/2011MNRAS.418.1587T; Chabrier IMF) relation, express in terms of distance. (accuracy of 0.1 dex)  Taylor+2011 gives:\n",
    "\n",
    "$$\\log_{10} \\left( \\frac{M_\\star}{M_\\odot}\\right) = 1.15 + 0.70 (g-i) - 0.4 M_i $$\n",
    "\n",
    "and the distance modulus ($m - M = 5 \\log_{10}d_{pc} - 5$) gives:\n",
    "\n",
    "$$ M_i = m_i - 5 \\log_{10} d_{pc} + 5 = i - 5 \\log_{10} d_{pc} + 5 $$\n",
    "\n",
    "We can combine the above two equations to get:\n",
    "\n",
    "$$\\log_{10} \\left( \\frac{M_\\star}{M_\\odot}\\right) = 1.15 + 0.70 (g-i) - 0.4 (i - 5 \\log_{10} d_{pc} + 5 ) $$\n",
    "\n",
    "Distribute $-0.4$:\n",
    "$$\\log_{10} \\left( \\frac{M_\\star}{M_\\odot}\\right) = 1.15 + 0.70 (g-i) - 0.4 i + 2 \\log_{10} d_{pc} - 2  $$\n",
    "\n",
    "Bring factor in front of log inside the log for distance term:\n",
    "$$\\log_{10} \\left( \\frac{M_\\star}{M_\\odot}\\right) = 1.15 + 0.70 (g-i) - 0.4 i + \\log_{10} (d_{pc}^2) - 2  $$\n",
    "\n",
    "\n",
    "\n",
    "We want the distance to be in units of Mpc, so we can manipulate the $\\log_{10} (d_{pc}^2)$ expression (I have a sign issue here):\n",
    "\n",
    "$$\\log_{10} (d_{pc}^2)  = \\log_{10} \\left({d_{Mpc}^2}\\right) + 12 $$\n",
    "\n",
    "Going back and substituting into stellar mass equation gives:\n",
    "$$\\log_{10} \\left( \\frac{M_\\star}{M_\\odot}\\right) = \\log_{10} \\left({d_{Mpc}^2}\\right) + 12 + 1.15 + 0.70 (g-i) - 0.4 i  - 2  $$\n",
    "\n",
    "\n",
    "$$\\log_{10} \\left( \\frac{M_\\star}{M_\\odot}\\right) = \\log_{10} \\left({d_{Mpc}^2}\\right) + 1.15 + 0.70 (g-i) - 0.4 i  + 10  $$\n",
    "\n",
    "\n",
    "$$\\frac{M_\\star}{M_\\odot} = d_{Mpc}^2 \\times 10^{1.15 +0.7(g-i) - 0.4 i + 10}  $$\n"
   ]
  },
  {
   "cell_type": "code",
   "execution_count": 64,
   "metadata": {
    "collapsed": true
   },
   "outputs": [],
   "source": [
    "Mstar_per_distance2 = 10.**(1.15 + 0.7*(gi_corrected) - 0.4*i_corrected +10)"
   ]
  },
  {
   "cell_type": "markdown",
   "metadata": {},
   "source": [
    "## Combine Mass Equations ##\n",
    "\n",
    "We can now combine the stellar mass and HI mass equations to get an expression for the baryonic mass in terms of distance.\n",
    "\n",
    "$$ M_b = d_{Mpc}^2 \\times 10^{1.15 +0.7(g-i) - 0.4 i - 14} + 2.36 \\times 10^5 \\times F_{HI} \\times d_{Mpc}^2 $$ \n",
    "\n",
    "$$ M_b = d_{Mpc}^2 \\left( 10^{1.15 +0.7(g-i) - 0.4 i - 14} + 2.36 \\times 10^5 \\times F_{HI} \\right) $$\n",
    "\n",
    "Solving for distance gives:\n",
    "\n",
    "$$d_{Mpc} = \\sqrt{ \\frac{M_b}{10^{1.15 +0.7(g-i) - 0.4 i - 14} + 2.36 \\times 10^5 \\times F_{HI}}} $$"
   ]
  },
  {
   "cell_type": "code",
   "execution_count": 65,
   "metadata": {
    "collapsed": false
   },
   "outputs": [
    {
     "name": "stdout",
     "output_type": "stream",
     "text": [
      "distance = 59.97 (Mpc)\n"
     ]
    }
   ],
   "source": [
    "distance_Mpc = np.sqrt(Mb/(Mstar_per_distance2 + MHI_per_distance2))\n",
    "print 'distance = %.2f (Mpc)' %(distance_Mpc)"
   ]
  },
  {
   "cell_type": "markdown",
   "metadata": {},
   "source": [
    "## In One Fell Swoop ##\n",
    "\n",
    "Here is all the code in two cells so you can calculate distances more quickly.  Of course, an even better idea is to write your own program."
   ]
  },
  {
   "cell_type": "code",
   "execution_count": 109,
   "metadata": {
    "collapsed": true
   },
   "outputs": [],
   "source": [
    "# 120300\n",
    "W50 = .\n",
    "ba = 0.667 # observed axis ratio of galaxy \n",
    "flux_HI = .89 # HI flux in units of Jy-km/s\n",
    "g = 15.29 # SDSS apparent g-band magnitude\n",
    "i = 14.19 # SDSS apparent i-band magnitude\n",
    "\n",
    "\n",
    "vr = 5287.\n",
    "\n",
    "# galactic extinction from NED\n",
    "# http://ned.ipac.caltech.edu/cgi-bin/objsearch?search_type=Obj_id&objid=6997&objname=1&img_stamp=YES&hconst=73.0&omegam=0.27&omegav=0.73&corr_z=1\n",
    "A_g = 0.369\n",
    "A_i = 0.19\n"
   ]
  },
  {
   "cell_type": "code",
   "execution_count": null,
   "metadata": {
    "collapsed": true
   },
   "outputs": [],
   "source": [
    "\n",
    "W50 = 70.\n",
    "ba = 0.667 # observed axis ratio of galaxy \n",
    "flux_HI = .89 # HI flux in units of Jy-km/s\n",
    "g = 15.29 # SDSS apparent g-band magnitude\n",
    "i = 14.19 # SDSS apparent i-band magnitude\n",
    "\n",
    "\n",
    "vr = 5287.\n",
    "\n",
    "# galactic extinction from NED\n",
    "# http://ned.ipac.caltech.edu/cgi-bin/objsearch?search_type=Obj_id&objid=6997&objname=1&img_stamp=YES&hconst=73.0&omegam=0.27&omegav=0.73&corr_z=1\n",
    "A_g = 0.369\n",
    "A_i = 0.19"
   ]
  },
  {
   "cell_type": "code",
   "execution_count": 111,
   "metadata": {
    "collapsed": true
   },
   "outputs": [],
   "source": [
    "# AGC 322551\n",
    "RA = 339.65\n",
    "DEC = 25.14278\n",
    "W50 = 254.\n",
    "ba = 0.3333 # observed axis ratio of galaxy \n",
    "flux_HI = .505 # HI flux in units of Jy-km/s\n",
    "g = 18.22 # SDSS apparent g-band magnitude\n",
    "i = 17.55 # SDSS apparent i-band magnitude\n",
    "\n",
    "\n",
    "vr = 6355.37\n",
    "\n",
    "# galactic extinction from NED\n",
    "# http://ned.ipac.caltech.edu/cgi-bin/objsearch?search_type=Obj_id&objid=6997&objname=1&img_stamp=YES&hconst=73.0&omegam=0.27&omegav=0.73&corr_z=1\n",
    "A_g = 0.\n",
    "A_i = 0."
   ]
  },
  {
   "cell_type": "code",
   "execution_count": 112,
   "metadata": {
    "collapsed": false
   },
   "outputs": [
    {
     "name": "stdout",
     "output_type": "stream",
     "text": [
      "INPUTS\n",
      "------------------------\n",
      "W50 =  254.0\n",
      "b/a =  0.3333\n",
      "(inclination = 65.4 degrees)\n",
      "HI flux =  0.505\n",
      "g =  18.22\n",
      "i =  17.55\n",
      "\n",
      "MASS - 2 log(d_Mpc)\n",
      "------------------------\n",
      "log(M*/d^2) = 4.53\n",
      "log(MHI/d^2) = 5.08\n",
      "\n",
      "BARYONIC MASS FROM BTFR\n",
      "------------------------\n",
      "log(Mb) = 11.43\n",
      "\n",
      "BTFR DISTANCE\n",
      "------------------------\n",
      "distance = 1322.22 (Mpc)\n",
      "\n",
      "CORRESPONDING MASSES\n",
      "------------------------\n",
      "log(M*) = 10.77\n",
      "log(MHI) = 11.32\n"
     ]
    }
   ],
   "source": [
    "inclination = np.arcsin((1-ba**2)/(1-.15**2))\n",
    "\n",
    "# Galactic extinction\n",
    "\n",
    "i_corrected = i - A_i\n",
    "g_corrected = g - A_g\n",
    "\n",
    "#internal extinction\n",
    "\n",
    "H0 = 70. #km/s/Mpc\n",
    "d_estimate = vr/H0\n",
    "Mi_estimate = i_corrected - 5.*np.log10(d_estimate)\n",
    "log_mstar_estimate = 1.15 + 0.70*(g_corrected-i_corrected) - 0.4*(i_corrected - 5.*np.log10(d_estimate*1.e6)+5)\n",
    "gi_corrected = g_corrected - i_corrected - (0.17*(1 - np.cos(inclination))*(log_mstar_estimate - 8.19))\n",
    "#print g_corrected-i_corrected,gi_corrected\n",
    "\n",
    "vf = W50/np.sin((inclination))\n",
    "log_Mb = 3.94 * np.log10(vf) + 1.79\n",
    "\n",
    "Mb = 10.**log_Mb\n",
    "MHI_per_distance2 = 2.36e5 * flux_HI\n",
    "Mstar_per_distance2 = 10.**(1.15 + 0.7*(gi_corrected) - 0.4*i_corrected +10)\n",
    "\n",
    "distance_Mpc = np.sqrt(Mb/(Mstar_per_distance2 + MHI_per_distance2))\n",
    "\n",
    "print 'INPUTS'\n",
    "print '------------------------'\n",
    "print 'W50 = ',W50\n",
    "print 'b/a = ',ba\n",
    "print '(inclination = %.1f degrees)'%(np.degrees(inclination))\n",
    "print 'HI flux = ',flux_HI\n",
    "print 'g = ',g\n",
    "print 'i = ',i\n",
    "print ''\n",
    "print 'MASS - 2 log(d_Mpc)'\n",
    "print '------------------------'\n",
    "print 'log(M*/d^2) = %.2f'%(np.log10(Mstar_per_distance2))\n",
    "print 'log(MHI/d^2) = %.2f'%(np.log10(MHI_per_distance2))\n",
    "print ''\n",
    "\n",
    "print 'BARYONIC MASS FROM BTFR'\n",
    "print '------------------------'\n",
    "print 'log(Mb) = %.2f'%(log_Mb)\n",
    "print ''\n",
    "print 'BTFR DISTANCE'\n",
    "print '------------------------'\n",
    "print 'distance = %.2f (Mpc)' %(distance_Mpc)\n",
    "print ''\n",
    "print 'CORRESPONDING MASSES'\n",
    "print '------------------------'\n",
    "print 'log(M*) = %.2f'%(np.log10(Mstar_per_distance2)+2.*np.log10(distance_Mpc))\n",
    "print 'log(MHI) = %.2f'%(np.log10(MHI_per_distance2)+2.*np.log10(distance_Mpc))"
   ]
  },
  {
   "cell_type": "markdown",
   "metadata": {},
   "source": [
    "## Calculating Masses Assuming Hubble Distance ##\n",
    "\n",
    "We are going to try a different approach.  Let's assume the recession velocity is due to the Hubble flow, and calculate the corresponding distance to the galaxy.\n",
    "\n",
    "Then calculate the HI mass and stellar mass based on this distance.\n",
    "\n",
    "Plot the galaxy on the baryonic tully fisher relation.\n",
    "\n",
    "\n"
   ]
  },
  {
   "cell_type": "code",
   "execution_count": 130,
   "metadata": {
    "collapsed": true
   },
   "outputs": [],
   "source": [
    "# 120300\n",
    "W50 = 272.\n",
    "ba = 0.667 # observed axis ratio of galaxy \n",
    "flux_HI = .89 # HI flux in units of Jy-km/s\n",
    "g = 15.29 # SDSS apparent g-band magnitude\n",
    "i = 14.19 # SDSS apparent i-band magnitude\n",
    "\n",
    "\n",
    "vr = 5287.\n",
    "\n",
    "# galactic extinction from NED\n",
    "# http://ned.ipac.caltech.edu/cgi-bin/objsearch?search_type=Obj_id&objid=6997&objname=1&img_stamp=YES&hconst=73.0&omegam=0.27&omegav=0.73&corr_z=1\n",
    "A_g = 0.369\n",
    "A_i = 0.19\n",
    "\n",
    "\n",
    "# make arrays\n",
    "ids = [120300,321315]\n",
    "W50 = np.array([272,151],'f')\n",
    "ba = np.array([.667,.333],'f')\n",
    "flux_HI = np.array([.89,.505],'f')\n",
    "g = np.array([15.29,18.82],'f')\n",
    "i = np.array([14.19,18.30],'f')\n",
    "vr = np.array([5287.,6355.],'f')\n",
    "A_g =np.array([.369,0.1,],'f')\n",
    "A_i = np.array([.19,0.1],'f')"
   ]
  },
  {
   "cell_type": "code",
   "execution_count": 131,
   "metadata": {
    "collapsed": false
   },
   "outputs": [
    {
     "name": "stdout",
     "output_type": "stream",
     "text": [
      "INPUTS\n",
      "------------------------\n",
      "W50 =  [ 272.  151.]\n",
      "b/a =  [ 0.667  0.333]\n"
     ]
    },
    {
     "ename": "TypeError",
     "evalue": "float argument required, not numpy.ndarray",
     "output_type": "error",
     "traceback": [
      "\u001b[0;31m---------------------------------------------------------------------------\u001b[0m",
      "\u001b[0;31mTypeError\u001b[0m                                 Traceback (most recent call last)",
      "\u001b[0;32m<ipython-input-131-c85b71cd3bdc>\u001b[0m in \u001b[0;36m<module>\u001b[0;34m()\u001b[0m\n\u001b[1;32m     27\u001b[0m \u001b[0;32mprint\u001b[0m \u001b[0;34m'W50 = '\u001b[0m\u001b[0;34m,\u001b[0m\u001b[0mW50\u001b[0m\u001b[0;34m\u001b[0m\u001b[0m\n\u001b[1;32m     28\u001b[0m \u001b[0;32mprint\u001b[0m \u001b[0;34m'b/a = '\u001b[0m\u001b[0;34m,\u001b[0m\u001b[0mba\u001b[0m\u001b[0;34m\u001b[0m\u001b[0m\n\u001b[0;32m---> 29\u001b[0;31m \u001b[0;32mprint\u001b[0m \u001b[0;34m'(inclination = %.1f degrees)'\u001b[0m\u001b[0;34m%\u001b[0m\u001b[0;34m(\u001b[0m\u001b[0mnp\u001b[0m\u001b[0;34m.\u001b[0m\u001b[0mdegrees\u001b[0m\u001b[0;34m(\u001b[0m\u001b[0minclination\u001b[0m\u001b[0;34m)\u001b[0m\u001b[0;34m)\u001b[0m\u001b[0;34m\u001b[0m\u001b[0m\n\u001b[0m\u001b[1;32m     30\u001b[0m \u001b[0;32mprint\u001b[0m \u001b[0;34m'HI flux = '\u001b[0m\u001b[0;34m,\u001b[0m\u001b[0mflux_HI\u001b[0m\u001b[0;34m\u001b[0m\u001b[0m\n\u001b[1;32m     31\u001b[0m \u001b[0;32mprint\u001b[0m \u001b[0;34m'g = '\u001b[0m\u001b[0;34m,\u001b[0m\u001b[0mg\u001b[0m\u001b[0;34m\u001b[0m\u001b[0m\n",
      "\u001b[0;31mTypeError\u001b[0m: float argument required, not numpy.ndarray"
     ]
    }
   ],
   "source": [
    "inclination = np.arcsin((1-ba**2)/(1-.15**2))\n",
    "\n",
    "# Galactic extinction\n",
    "\n",
    "i_corrected = i - A_i\n",
    "g_corrected = g - A_g\n",
    "\n",
    "#internal extinction\n",
    "\n",
    "H0 = 70. #km/s/Mpc\n",
    "d_estimate = vr/H0\n",
    "Mi_estimate = i_corrected - 5.*np.log10(d_estimate)\n",
    "log_mstar_estimate = 1.15 + 0.70*(g_corrected-i_corrected) - 0.4*(i_corrected - 5.*np.log10(d_estimate*1.e6)+5)\n",
    "gi_corrected = g_corrected - i_corrected - (0.17*(1 - np.cos(inclination))*(log_mstar_estimate - 8.19))\n",
    "#print g_corrected-i_corrected,gi_corrected\n",
    "# correct for internal extinction\n",
    "log_mstar_estimate = 1.15 + 0.70*(gi_corrected) - 0.4*(i_corrected - 5.*np.log10(d_estimate*1.e6)+5)\n",
    "\n",
    "vf = W50/np.sin((inclination))\n",
    "\n",
    "MHI_estimate = 2.36e5 * flux_HI *d_estimate**2\n",
    "\n",
    "Mb_estimate = 10.**log_mstar_estimate + 1.3*MHI_estimate\n",
    "\n",
    "print 'INPUTS'\n",
    "print '------------------------'\n",
    "print 'W50 = ',W50\n",
    "print 'b/a = ',ba\n",
    "print '(inclination = %.1f degrees)'%(np.degrees(inclination))\n",
    "print 'HI flux = ',flux_HI\n",
    "print 'g = ',g\n",
    "print 'i = ',i\n",
    "print ''\n",
    "print 'MASS ESTIMATES'\n",
    "print '------------------------'\n",
    "print 'log(M*) = %.2f'%(log_mstar_estimate)\n",
    "print 'log(MHI) = %.2f'%(np.log10(MHI_estimate))\n",
    "print 'log(Mb) = %.2f'%(np.log10(Mb_estimate))\n",
    "print ''\n",
    "print 'CORRECTED VELOCITY'\n",
    "print '------------------------'\n",
    "print 'vf = %.2f km/s'%(vf)\n",
    "\n"
   ]
  },
  {
   "cell_type": "code",
   "execution_count": 132,
   "metadata": {
    "collapsed": false
   },
   "outputs": [
    {
     "data": {
      "text/plain": [
       "<matplotlib.text.Text at 0x11c6e3910>"
      ]
     },
     "execution_count": 132,
     "metadata": {},
     "output_type": "execute_result"
    },
    {
     "data": {
      "image/png": "[encoded data removed]",
      "text/plain": [
       "<matplotlib.figure.Figure at 0x11c6a7550>"
      ]
     },
     "metadata": {},
     "output_type": "display_data"
    }
   ],
   "source": [
    "# Figure\n",
    "\n",
    "\n",
    "# stark relation for Mb vs log(vf)\n",
    "xl = np.arange(1,3.1,.1)\n",
    "yl=3.94*xl+1.79\n",
    "\n",
    "\n",
    "plt.figure()\n",
    "plt.plot(xl,yl,'k-')\n",
    "plt.plot(np.log10(vf),np.log10(Mb_estimate),'b*',markersize=16)\n",
    "\n",
    "plt.xlabel('$\\log_{10}(v_f)$',fontsize=20)\n",
    "plt.ylabel('$\\log_{10}(M_b/M_\\odot)$',fontsize=20)\n"
   ]
  },
  {
   "cell_type": "code",
   "execution_count": null,
   "metadata": {
    "collapsed": true
   },
   "outputs": [],
   "source": []
  }
 ],
 "metadata": {
  "kernelspec": {
   "display_name": "Python [default]",
   "language": "python",
   "name": "python2"
  },
  "language_info": {
   "codemirror_mode": {
    "name": "ipython",
    "version": 2
   },
   "file_extension": ".py",
   "mimetype": "text/x-python",
   "name": "python",
   "nbconvert_exporter": "python",
   "pygments_lexer": "ipython2",
   "version": "2.7.13"
  }
 },
 "nbformat": 4,
 "nbformat_minor": 2
}

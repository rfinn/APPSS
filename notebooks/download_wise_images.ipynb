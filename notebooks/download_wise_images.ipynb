{
 "cells": [
  {
   "cell_type": "markdown",
   "metadata": {},
   "source": [
    "# Overview\n",
    "\n",
    "* the goal of this notebook is to download and display WISE images for APPSS galaxies\n",
    "* we will use the WISE images to estimate the stellar mass of galaxiesy\n",
    "* there are two samples of galaxies: APPSS sample, and the supernova host galaxy sample\n",
    "\n"
   ]
  },
  {
   "cell_type": "code",
   "execution_count": 1,
   "metadata": {},
   "outputs": [],
   "source": [
    "import os\n",
    "import numpy as np\n",
    "from matplotlib import pyplot as plt\n",
    "from astropy.table import Table"
   ]
  },
  {
   "cell_type": "code",
   "execution_count": 3,
   "metadata": {},
   "outputs": [],
   "source": [
    "homedir = os.getenv(\"HOME\")"
   ]
  },
  {
   "cell_type": "markdown",
   "metadata": {},
   "source": [
    "# Set the working directory to something other than github directory"
   ]
  },
  {
   "cell_type": "code",
   "execution_count": 6,
   "metadata": {},
   "outputs": [],
   "source": [
    "os.chdir(homedir+\"/research/APPSS/mstar/\")"
   ]
  },
  {
   "cell_type": "markdown",
   "metadata": {},
   "source": [
    "# Read in catalog of galaxies"
   ]
  },
  {
   "cell_type": "code",
   "execution_count": 4,
   "metadata": {},
   "outputs": [],
   "source": [
    "# APPSS catalogs from Catie\n",
    "\n",
    "appscat_filename = homedir+\"/research/APPSS/sample/appss123.catalog.211115.csv\"\n",
    "apps = Table.read(appscat_filename)"
   ]
  },
  {
   "cell_type": "code",
   "execution_count": 5,
   "metadata": {},
   "outputs": [
    {
     "data": {
      "text/html": [
       "<div><i>Table length=760</i>\n",
       "<table id=\"table140315442506448\" class=\"table-striped table-bordered table-condensed\">\n",
       "<thead><tr><th>hiname</th><th>agcnum</th><th>othername</th><th>HIra</th><th>HIdec</th><th>OCra</th><th>OCdec</th><th>hv50</th><th>hverr</th><th>iw50</th><th>iwerr</th><th>iv20</th><th>flux</th><th>fluxerr</th><th>sn</th><th>rms</th><th>icodelbw</th><th>appss</th><th>specfile</th><th>icodea100</th></tr></thead>\n",
       "<thead><tr><th>str16</th><th>int64</th><th>str7</th><th>float64</th><th>float64</th><th>float64</th><th>float64</th><th>int64</th><th>int64</th><th>int64</th><th>int64</th><th>int64</th><th>float64</th><th>float64</th><th>float64</th><th>float64</th><th>int64</th><th>str3</th><th>str26</th><th>int64</th></tr></thead>\n",
       "<tr><td>H215143.8+251518</td><td>11834</td><td>472-014</td><td>327.93249512</td><td>25.25499916</td><td>327.93249512</td><td>25.25499916</td><td>3261</td><td>2</td><td>192</td><td>3</td><td>211</td><td>2.52</td><td>0.06</td><td>37.3</td><td>1.09</td><td>8</td><td>ap3</td><td>H215143.8+251518</td><td>1</td></tr>\n",
       "<tr><td>H224250.1+325936</td><td>12165</td><td>--</td><td>340.70874023</td><td>32.99333191</td><td>340.70874023</td><td>32.99333191</td><td>6522</td><td>5</td><td>351</td><td>7</td><td>361</td><td>1.97</td><td>0.11</td><td>16.1</td><td>1.45</td><td>8</td><td>ap3</td><td>H224250.1+325936</td><td>1</td></tr>\n",
       "<tr><td>S220002.9+304808</td><td>322491</td><td>--</td><td>330.01208496</td><td>30.8022213</td><td>330.01208496</td><td>30.8022213</td><td>12545</td><td>4</td><td>204</td><td>6</td><td>218</td><td>0.58</td><td>0.06</td><td>9.6</td><td>0.74</td><td>8</td><td>ap2</td><td>S220002.9+304808</td><td>0</td></tr>\n",
       "<tr><td>S220415.3+293244</td><td>322494</td><td>--</td><td>331.06375122</td><td>29.54555511</td><td>331.06375122</td><td>29.54555511</td><td>4870</td><td>2</td><td>126</td><td>3</td><td>131</td><td>0.27</td><td>0.04</td><td>6.3</td><td>0.76</td><td>8</td><td>ap2</td><td>S220415.3+293244</td><td>0</td></tr>\n",
       "<tr><td>S220440.1+245549</td><td>323399</td><td>--</td><td>331.16708374</td><td>24.93027687</td><td>331.16708374</td><td>24.93027687</td><td>6145</td><td>6</td><td>132</td><td>8</td><td>148</td><td>0.45</td><td>0.05</td><td>8.2</td><td>0.91</td><td>8</td><td>ap2</td><td>S220440.1+245549</td><td>0</td></tr>\n",
       "<tr><td>S220801.7+291527</td><td>323400</td><td>--</td><td>332.00708008</td><td>29.25749969</td><td>332.00708008</td><td>29.25749969</td><td>2894</td><td>4</td><td>31</td><td>6</td><td>38</td><td>0.1</td><td>0.01</td><td>6.9</td><td>0.6</td><td>8</td><td>ap3</td><td>S220801.7+291527_2peak</td><td>0</td></tr>\n",
       "<tr><td>S220816.5+304000</td><td>322496</td><td>--</td><td>332.0687561</td><td>30.66666603</td><td>332.0687561</td><td>30.66666603</td><td>1115</td><td>1</td><td>45</td><td>1</td><td>59</td><td>0.5</td><td>0.02</td><td>21.7</td><td>0.6</td><td>8</td><td>ap2</td><td>S220816.5+304000</td><td>0</td></tr>\n",
       "<tr><td>S220842.2+245624</td><td>321315</td><td>--</td><td>332.17584229</td><td>24.93999863</td><td>332.17584229</td><td>24.93999863</td><td>6356</td><td>2</td><td>151</td><td>3</td><td>160</td><td>0.44</td><td>0.04</td><td>10.9</td><td>0.6</td><td>8</td><td>ap2</td><td>S220842.2+245624</td><td>4</td></tr>\n",
       "<tr><td>S220059.5+273651</td><td>321196</td><td>--</td><td>330.24789429</td><td>27.61416626</td><td>330.24789429</td><td>27.61416626</td><td>3504</td><td>5</td><td>110</td><td>7</td><td>121</td><td>0.6</td><td>0.04</td><td>12.9</td><td>0.99</td><td>8</td><td>ap3</td><td>S220059.5+273651_2019</td><td>1</td></tr>\n",
       "<tr><td>S221124.6+244136</td><td>322498</td><td>--</td><td>332.85250854</td><td>24.69333267</td><td>332.85250854</td><td>24.69333267</td><td>7108</td><td>3</td><td>160</td><td>4</td><td>178</td><td>0.65</td><td>0.05</td><td>12.5</td><td>0.77</td><td>8</td><td>ap2</td><td>S221124.6+244136</td><td>0</td></tr>\n",
       "<tr><td>...</td><td>...</td><td>...</td><td>...</td><td>...</td><td>...</td><td>...</td><td>...</td><td>...</td><td>...</td><td>...</td><td>...</td><td>...</td><td>...</td><td>...</td><td>...</td><td>...</td><td>...</td><td>...</td><td>...</td></tr>\n",
       "<tr><td>S025912.0+345929</td><td>124773</td><td>--</td><td>44.79999924</td><td>34.99139023</td><td>44.79999924</td><td>34.99139023</td><td>4896</td><td>2</td><td>48</td><td>3</td><td>52</td><td>0.12</td><td>0.02</td><td>4.4</td><td>0.65</td><td>8</td><td>ap2</td><td>S025912.0+345929</td><td>0</td></tr>\n",
       "<tr><td>S025917.5+244843</td><td>123254</td><td>--</td><td>44.82291794</td><td>24.81194305</td><td>44.82291794</td><td>24.81194305</td><td>4652</td><td>2</td><td>56</td><td>3</td><td>66</td><td>0.41</td><td>0.03</td><td>14.1</td><td>0.64</td><td>8</td><td>ap2</td><td>S025917.5+244843</td><td>0</td></tr>\n",
       "<tr><td>H025919.0+283235</td><td>123213</td><td>--</td><td>44.81375122</td><td>28.54916573</td><td>44.81375122</td><td>28.54916573</td><td>5637</td><td>2</td><td>58</td><td>3</td><td>71</td><td>0.42</td><td>0.03</td><td>11.6</td><td>1.06</td><td>8</td><td>ap1</td><td>H025919.0+283235</td><td>4</td></tr>\n",
       "<tr><td>H025944.6+301906</td><td>123102</td><td>--</td><td>44.95166779</td><td>30.3105545</td><td>44.95166779</td><td>30.3105545</td><td>6262</td><td>21</td><td>194</td><td>29</td><td>274</td><td>0.82</td><td>0.05</td><td>14.6</td><td>0.9</td><td>8</td><td>ap1</td><td>H025944.6+301906</td><td>4</td></tr>\n",
       "<tr><td>S030038.7+254701</td><td>131439</td><td>--</td><td>45.16125107</td><td>25.7836113</td><td>45.16125107</td><td>25.7836113</td><td>303</td><td>2</td><td>21</td><td>3</td><td>28</td><td>0.11</td><td>0.02</td><td>4.4</td><td>0.89</td><td>8</td><td>ap2</td><td>S030038.7+254701_2peak</td><td>0</td></tr>\n",
       "<tr><td>H030156.6+280042</td><td>131363</td><td>--</td><td>45.48708344</td><td>28.02138901</td><td>45.48708344</td><td>28.02138901</td><td>5598</td><td>7</td><td>143</td><td>9</td><td>192</td><td>0.93</td><td>0.04</td><td>20.2</td><td>0.86</td><td>8</td><td>ap1</td><td>H030156.6+280042</td><td>4</td></tr>\n",
       "<tr><td>S030247.9+350428</td><td>131430</td><td>--</td><td>45.69958496</td><td>35.07444382</td><td>45.69958496</td><td>35.07444382</td><td>4854</td><td>8</td><td>53</td><td>11</td><td>62</td><td>0.08</td><td>0.02</td><td>3.4</td><td>0.53</td><td>8</td><td>ap2</td><td>S030247.9+350428</td><td>4</td></tr>\n",
       "<tr><td>S030348.8+275441</td><td>132286</td><td>--</td><td>45.95333099</td><td>27.9113884</td><td>45.95333099</td><td>27.9113884</td><td>11093</td><td>3</td><td>106</td><td>4</td><td>112</td><td>0.23</td><td>0.03</td><td>6.5</td><td>0.57</td><td>8</td><td>ap2</td><td>S030348.8+275441</td><td>0</td></tr>\n",
       "<tr><td>H030352.5+275951</td><td>131364</td><td>--</td><td>45.96083069</td><td>27.98666763</td><td>45.96083069</td><td>27.98666763</td><td>6886</td><td>3</td><td>230</td><td>5</td><td>246</td><td>0.9</td><td>0.05</td><td>15.9</td><td>0.83</td><td>8</td><td>ap1</td><td>H030352.5+275951</td><td>4</td></tr>\n",
       "<tr><td>S030354.8+301552</td><td>2512</td><td>--</td><td>45.97833252</td><td>30.26444435</td><td>45.97833252</td><td>30.26444435</td><td>10974</td><td>4</td><td>287</td><td>5</td><td>292</td><td>0.59</td><td>0.09</td><td>6.1</td><td>1.05</td><td>8</td><td>ap2</td><td>S030354.8+301552</td><td>0</td></tr>\n",
       "</table></div>"
      ],
      "text/plain": [
       "<Table length=760>\n",
       "     hiname      agcnum othername ... appss        specfile        icodea100\n",
       "     str16       int64     str7   ...  str3         str26            int64  \n",
       "---------------- ------ --------- ... ----- ---------------------- ---------\n",
       "H215143.8+251518  11834   472-014 ...   ap3       H215143.8+251518         1\n",
       "H224250.1+325936  12165        -- ...   ap3       H224250.1+325936         1\n",
       "S220002.9+304808 322491        -- ...   ap2       S220002.9+304808         0\n",
       "S220415.3+293244 322494        -- ...   ap2       S220415.3+293244         0\n",
       "S220440.1+245549 323399        -- ...   ap2       S220440.1+245549         0\n",
       "S220801.7+291527 323400        -- ...   ap3 S220801.7+291527_2peak         0\n",
       "S220816.5+304000 322496        -- ...   ap2       S220816.5+304000         0\n",
       "S220842.2+245624 321315        -- ...   ap2       S220842.2+245624         4\n",
       "S220059.5+273651 321196        -- ...   ap3  S220059.5+273651_2019         1\n",
       "S221124.6+244136 322498        -- ...   ap2       S221124.6+244136         0\n",
       "             ...    ...       ... ...   ...                    ...       ...\n",
       "S025912.0+345929 124773        -- ...   ap2       S025912.0+345929         0\n",
       "S025917.5+244843 123254        -- ...   ap2       S025917.5+244843         0\n",
       "H025919.0+283235 123213        -- ...   ap1       H025919.0+283235         4\n",
       "H025944.6+301906 123102        -- ...   ap1       H025944.6+301906         4\n",
       "S030038.7+254701 131439        -- ...   ap2 S030038.7+254701_2peak         0\n",
       "H030156.6+280042 131363        -- ...   ap1       H030156.6+280042         4\n",
       "S030247.9+350428 131430        -- ...   ap2       S030247.9+350428         4\n",
       "S030348.8+275441 132286        -- ...   ap2       S030348.8+275441         0\n",
       "H030352.5+275951 131364        -- ...   ap1       H030352.5+275951         4\n",
       "S030354.8+301552   2512        -- ...   ap2       S030354.8+301552         0"
      ]
     },
     "execution_count": 5,
     "metadata": {},
     "output_type": "execute_result"
    }
   ],
   "source": [
    "apps"
   ]
  },
  {
   "cell_type": "markdown",
   "metadata": {},
   "source": [
    "# Code to download a WISE image"
   ]
  },
  {
   "cell_type": "code",
   "execution_count": null,
   "metadata": {},
   "outputs": [],
   "source": []
  }
 ],
 "metadata": {
  "kernelspec": {
   "display_name": "Python 3",
   "language": "python",
   "name": "python3"
  },
  "language_info": {
   "codemirror_mode": {
    "name": "ipython",
    "version": 3
   },
   "file_extension": ".py",
   "mimetype": "text/x-python",
   "name": "python",
   "nbconvert_exporter": "python",
   "pygments_lexer": "ipython3",
   "version": "3.7.4"
  }
 },
 "nbformat": 4,
 "nbformat_minor": 2
}

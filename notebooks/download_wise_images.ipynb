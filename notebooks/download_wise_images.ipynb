{
 "cells": [
  {
   "cell_type": "markdown",
   "metadata": {},
   "source": [
    "# Overview\n",
    "\n",
    "* the goal of this notebook is to download and display WISE images for APPSS galaxies\n",
    "* we will use the WISE images to estimate the stellar mass of galaxiesy\n",
    "* there are two samples of galaxies: APPSS sample, and the supernova host galaxy sample\n",
    "\n"
   ]
  },
  {
   "cell_type": "code",
   "execution_count": 2,
   "metadata": {},
   "outputs": [],
   "source": [
    "import os\n",
    "import sys\n",
    "import numpy as np\n",
    "from matplotlib import pyplot as plt\n",
    "from astropy.table import Table\n",
    "from astropy.io import fits\n",
    "from PIL import Image"
   ]
  },
  {
   "cell_type": "code",
   "execution_count": 3,
   "metadata": {},
   "outputs": [],
   "source": [
    "homedir = os.getenv(\"HOME\")\n",
    "sys.path.append(homedir+\"/github/APPSS/python/\")"
   ]
  },
  {
   "cell_type": "code",
   "execution_count": 4,
   "metadata": {},
   "outputs": [],
   "source": [
    "from image_functions import *"
   ]
  },
  {
   "cell_type": "code",
   "execution_count": 5,
   "metadata": {},
   "outputs": [],
   "source": [
    "UNWISE_PIXSCALE = 2.75\n",
    "LEGACY_PIXSCALE = 1\n"
   ]
  },
  {
   "cell_type": "markdown",
   "metadata": {},
   "source": [
    "# Set the working directory to something other than github directory"
   ]
  },
  {
   "cell_type": "code",
   "execution_count": 28,
   "metadata": {},
   "outputs": [],
   "source": [
    "cwd = homedir+\"/research/APPSS/mstar/\"\n",
    "os.chdir(cwd)"
   ]
  },
  {
   "cell_type": "markdown",
   "metadata": {},
   "source": [
    "# Read in catalog of galaxies"
   ]
  },
  {
   "cell_type": "code",
   "execution_count": 7,
   "metadata": {},
   "outputs": [],
   "source": [
    "# APPSS catalogs from Catie\n",
    "\n",
    "appscat_filename = homedir+\"/research/APPSS/sample/appss123.catalog.211115.csv\"\n",
    "apps = Table.read(appscat_filename)"
   ]
  },
  {
   "cell_type": "code",
   "execution_count": 8,
   "metadata": {},
   "outputs": [
    {
     "data": {
      "text/html": [
       "<div><i>Table length=760</i>\n",
       "<table id=\"table139745153918544\" class=\"table-striped table-bordered table-condensed\">\n",
       "<thead><tr><th>hiname</th><th>agcnum</th><th>othername</th><th>HIra</th><th>HIdec</th><th>OCra</th><th>OCdec</th><th>hv50</th><th>hverr</th><th>iw50</th><th>iwerr</th><th>iv20</th><th>flux</th><th>fluxerr</th><th>sn</th><th>rms</th><th>icodelbw</th><th>appss</th><th>specfile</th><th>icodea100</th></tr></thead>\n",
       "<thead><tr><th>str16</th><th>int64</th><th>str7</th><th>float64</th><th>float64</th><th>float64</th><th>float64</th><th>int64</th><th>int64</th><th>int64</th><th>int64</th><th>int64</th><th>float64</th><th>float64</th><th>float64</th><th>float64</th><th>int64</th><th>str3</th><th>str26</th><th>int64</th></tr></thead>\n",
       "<tr><td>H215143.8+251518</td><td>11834</td><td>472-014</td><td>327.93249512</td><td>25.25499916</td><td>327.93249512</td><td>25.25499916</td><td>3261</td><td>2</td><td>192</td><td>3</td><td>211</td><td>2.52</td><td>0.06</td><td>37.3</td><td>1.09</td><td>8</td><td>ap3</td><td>H215143.8+251518</td><td>1</td></tr>\n",
       "<tr><td>H224250.1+325936</td><td>12165</td><td>--</td><td>340.70874023</td><td>32.99333191</td><td>340.70874023</td><td>32.99333191</td><td>6522</td><td>5</td><td>351</td><td>7</td><td>361</td><td>1.97</td><td>0.11</td><td>16.1</td><td>1.45</td><td>8</td><td>ap3</td><td>H224250.1+325936</td><td>1</td></tr>\n",
       "<tr><td>S220002.9+304808</td><td>322491</td><td>--</td><td>330.01208496</td><td>30.8022213</td><td>330.01208496</td><td>30.8022213</td><td>12545</td><td>4</td><td>204</td><td>6</td><td>218</td><td>0.58</td><td>0.06</td><td>9.6</td><td>0.74</td><td>8</td><td>ap2</td><td>S220002.9+304808</td><td>0</td></tr>\n",
       "<tr><td>S220415.3+293244</td><td>322494</td><td>--</td><td>331.06375122</td><td>29.54555511</td><td>331.06375122</td><td>29.54555511</td><td>4870</td><td>2</td><td>126</td><td>3</td><td>131</td><td>0.27</td><td>0.04</td><td>6.3</td><td>0.76</td><td>8</td><td>ap2</td><td>S220415.3+293244</td><td>0</td></tr>\n",
       "<tr><td>S220440.1+245549</td><td>323399</td><td>--</td><td>331.16708374</td><td>24.93027687</td><td>331.16708374</td><td>24.93027687</td><td>6145</td><td>6</td><td>132</td><td>8</td><td>148</td><td>0.45</td><td>0.05</td><td>8.2</td><td>0.91</td><td>8</td><td>ap2</td><td>S220440.1+245549</td><td>0</td></tr>\n",
       "<tr><td>S220801.7+291527</td><td>323400</td><td>--</td><td>332.00708008</td><td>29.25749969</td><td>332.00708008</td><td>29.25749969</td><td>2894</td><td>4</td><td>31</td><td>6</td><td>38</td><td>0.1</td><td>0.01</td><td>6.9</td><td>0.6</td><td>8</td><td>ap3</td><td>S220801.7+291527_2peak</td><td>0</td></tr>\n",
       "<tr><td>S220816.5+304000</td><td>322496</td><td>--</td><td>332.0687561</td><td>30.66666603</td><td>332.0687561</td><td>30.66666603</td><td>1115</td><td>1</td><td>45</td><td>1</td><td>59</td><td>0.5</td><td>0.02</td><td>21.7</td><td>0.6</td><td>8</td><td>ap2</td><td>S220816.5+304000</td><td>0</td></tr>\n",
       "<tr><td>S220842.2+245624</td><td>321315</td><td>--</td><td>332.17584229</td><td>24.93999863</td><td>332.17584229</td><td>24.93999863</td><td>6356</td><td>2</td><td>151</td><td>3</td><td>160</td><td>0.44</td><td>0.04</td><td>10.9</td><td>0.6</td><td>8</td><td>ap2</td><td>S220842.2+245624</td><td>4</td></tr>\n",
       "<tr><td>S220059.5+273651</td><td>321196</td><td>--</td><td>330.24789429</td><td>27.61416626</td><td>330.24789429</td><td>27.61416626</td><td>3504</td><td>5</td><td>110</td><td>7</td><td>121</td><td>0.6</td><td>0.04</td><td>12.9</td><td>0.99</td><td>8</td><td>ap3</td><td>S220059.5+273651_2019</td><td>1</td></tr>\n",
       "<tr><td>S221124.6+244136</td><td>322498</td><td>--</td><td>332.85250854</td><td>24.69333267</td><td>332.85250854</td><td>24.69333267</td><td>7108</td><td>3</td><td>160</td><td>4</td><td>178</td><td>0.65</td><td>0.05</td><td>12.5</td><td>0.77</td><td>8</td><td>ap2</td><td>S221124.6+244136</td><td>0</td></tr>\n",
       "<tr><td>...</td><td>...</td><td>...</td><td>...</td><td>...</td><td>...</td><td>...</td><td>...</td><td>...</td><td>...</td><td>...</td><td>...</td><td>...</td><td>...</td><td>...</td><td>...</td><td>...</td><td>...</td><td>...</td><td>...</td></tr>\n",
       "<tr><td>S025912.0+345929</td><td>124773</td><td>--</td><td>44.79999924</td><td>34.99139023</td><td>44.79999924</td><td>34.99139023</td><td>4896</td><td>2</td><td>48</td><td>3</td><td>52</td><td>0.12</td><td>0.02</td><td>4.4</td><td>0.65</td><td>8</td><td>ap2</td><td>S025912.0+345929</td><td>0</td></tr>\n",
       "<tr><td>S025917.5+244843</td><td>123254</td><td>--</td><td>44.82291794</td><td>24.81194305</td><td>44.82291794</td><td>24.81194305</td><td>4652</td><td>2</td><td>56</td><td>3</td><td>66</td><td>0.41</td><td>0.03</td><td>14.1</td><td>0.64</td><td>8</td><td>ap2</td><td>S025917.5+244843</td><td>0</td></tr>\n",
       "<tr><td>H025919.0+283235</td><td>123213</td><td>--</td><td>44.81375122</td><td>28.54916573</td><td>44.81375122</td><td>28.54916573</td><td>5637</td><td>2</td><td>58</td><td>3</td><td>71</td><td>0.42</td><td>0.03</td><td>11.6</td><td>1.06</td><td>8</td><td>ap1</td><td>H025919.0+283235</td><td>4</td></tr>\n",
       "<tr><td>H025944.6+301906</td><td>123102</td><td>--</td><td>44.95166779</td><td>30.3105545</td><td>44.95166779</td><td>30.3105545</td><td>6262</td><td>21</td><td>194</td><td>29</td><td>274</td><td>0.82</td><td>0.05</td><td>14.6</td><td>0.9</td><td>8</td><td>ap1</td><td>H025944.6+301906</td><td>4</td></tr>\n",
       "<tr><td>S030038.7+254701</td><td>131439</td><td>--</td><td>45.16125107</td><td>25.7836113</td><td>45.16125107</td><td>25.7836113</td><td>303</td><td>2</td><td>21</td><td>3</td><td>28</td><td>0.11</td><td>0.02</td><td>4.4</td><td>0.89</td><td>8</td><td>ap2</td><td>S030038.7+254701_2peak</td><td>0</td></tr>\n",
       "<tr><td>H030156.6+280042</td><td>131363</td><td>--</td><td>45.48708344</td><td>28.02138901</td><td>45.48708344</td><td>28.02138901</td><td>5598</td><td>7</td><td>143</td><td>9</td><td>192</td><td>0.93</td><td>0.04</td><td>20.2</td><td>0.86</td><td>8</td><td>ap1</td><td>H030156.6+280042</td><td>4</td></tr>\n",
       "<tr><td>S030247.9+350428</td><td>131430</td><td>--</td><td>45.69958496</td><td>35.07444382</td><td>45.69958496</td><td>35.07444382</td><td>4854</td><td>8</td><td>53</td><td>11</td><td>62</td><td>0.08</td><td>0.02</td><td>3.4</td><td>0.53</td><td>8</td><td>ap2</td><td>S030247.9+350428</td><td>4</td></tr>\n",
       "<tr><td>S030348.8+275441</td><td>132286</td><td>--</td><td>45.95333099</td><td>27.9113884</td><td>45.95333099</td><td>27.9113884</td><td>11093</td><td>3</td><td>106</td><td>4</td><td>112</td><td>0.23</td><td>0.03</td><td>6.5</td><td>0.57</td><td>8</td><td>ap2</td><td>S030348.8+275441</td><td>0</td></tr>\n",
       "<tr><td>H030352.5+275951</td><td>131364</td><td>--</td><td>45.96083069</td><td>27.98666763</td><td>45.96083069</td><td>27.98666763</td><td>6886</td><td>3</td><td>230</td><td>5</td><td>246</td><td>0.9</td><td>0.05</td><td>15.9</td><td>0.83</td><td>8</td><td>ap1</td><td>H030352.5+275951</td><td>4</td></tr>\n",
       "<tr><td>S030354.8+301552</td><td>2512</td><td>--</td><td>45.97833252</td><td>30.26444435</td><td>45.97833252</td><td>30.26444435</td><td>10974</td><td>4</td><td>287</td><td>5</td><td>292</td><td>0.59</td><td>0.09</td><td>6.1</td><td>1.05</td><td>8</td><td>ap2</td><td>S030354.8+301552</td><td>0</td></tr>\n",
       "</table></div>"
      ],
      "text/plain": [
       "<Table length=760>\n",
       "     hiname      agcnum othername ... appss        specfile        icodea100\n",
       "     str16       int64     str7   ...  str3         str26            int64  \n",
       "---------------- ------ --------- ... ----- ---------------------- ---------\n",
       "H215143.8+251518  11834   472-014 ...   ap3       H215143.8+251518         1\n",
       "H224250.1+325936  12165        -- ...   ap3       H224250.1+325936         1\n",
       "S220002.9+304808 322491        -- ...   ap2       S220002.9+304808         0\n",
       "S220415.3+293244 322494        -- ...   ap2       S220415.3+293244         0\n",
       "S220440.1+245549 323399        -- ...   ap2       S220440.1+245549         0\n",
       "S220801.7+291527 323400        -- ...   ap3 S220801.7+291527_2peak         0\n",
       "S220816.5+304000 322496        -- ...   ap2       S220816.5+304000         0\n",
       "S220842.2+245624 321315        -- ...   ap2       S220842.2+245624         4\n",
       "S220059.5+273651 321196        -- ...   ap3  S220059.5+273651_2019         1\n",
       "S221124.6+244136 322498        -- ...   ap2       S221124.6+244136         0\n",
       "             ...    ...       ... ...   ...                    ...       ...\n",
       "S025912.0+345929 124773        -- ...   ap2       S025912.0+345929         0\n",
       "S025917.5+244843 123254        -- ...   ap2       S025917.5+244843         0\n",
       "H025919.0+283235 123213        -- ...   ap1       H025919.0+283235         4\n",
       "H025944.6+301906 123102        -- ...   ap1       H025944.6+301906         4\n",
       "S030038.7+254701 131439        -- ...   ap2 S030038.7+254701_2peak         0\n",
       "H030156.6+280042 131363        -- ...   ap1       H030156.6+280042         4\n",
       "S030247.9+350428 131430        -- ...   ap2       S030247.9+350428         4\n",
       "S030348.8+275441 132286        -- ...   ap2       S030348.8+275441         0\n",
       "H030352.5+275951 131364        -- ...   ap1       H030352.5+275951         4\n",
       "S030354.8+301552   2512        -- ...   ap2       S030354.8+301552         0"
      ]
     },
     "execution_count": 8,
     "metadata": {},
     "output_type": "execute_result"
    }
   ],
   "source": [
    "apps"
   ]
  },
  {
   "cell_type": "markdown",
   "metadata": {},
   "source": [
    "# Select a test galaxy"
   ]
  },
  {
   "cell_type": "code",
   "execution_count": null,
   "metadata": {},
   "outputs": [],
   "source": [
    "# select first galaxy in the list as a test\n",
    "ra = apps['OCra'][0]\n",
    "dec = apps['OCdec'][0]\n",
    "galname = 'AGC'+str(apps['agcnum'][0])\n"
   ]
  },
  {
   "cell_type": "code",
   "execution_count": null,
   "metadata": {},
   "outputs": [],
   "source": [
    "!ls\n",
    "# run this to start over\n",
    "! rm AGC11834*\n",
    "!ls"
   ]
  },
  {
   "cell_type": "markdown",
   "metadata": {},
   "source": [
    "# Display legacy and unwise with new function"
   ]
  },
  {
   "cell_type": "code",
   "execution_count": null,
   "metadata": {},
   "outputs": [],
   "source": [
    "display_legacy_unwise(ra,dec,galname,imsize_arcsec=120)"
   ]
  },
  {
   "cell_type": "markdown",
   "metadata": {},
   "source": [
    "# Display first 20 galaxies"
   ]
  },
  {
   "cell_type": "code",
   "execution_count": 36,
   "metadata": {},
   "outputs": [],
   "source": [
    "%run ~/github/APPSS/python/image_functions.py"
   ]
  },
  {
   "cell_type": "code",
   "execution_count": 37,
   "metadata": {
    "scrolled": false
   },
   "outputs": [
    {
     "name": "stdout",
     "output_type": "stream",
     "text": [
      "unwise images already downloaded\n",
      "['AGC11834-unwise-3283p257-w3-img-m.fits', 'AGC11834-unwise-3283p257-w4-img-m.fits', 'AGC11834-unwise-3283p257-w2-img-m.fits', 'AGC11834-unwise-3283p257-w1-img-m.fits']\n",
      "previously downloaded  AGC11834-legacy-60.jpg\n",
      "previously downloaded  AGC11834-legacy-60-g.fits\n",
      "return from get_legacy_images =  ('AGC11834-legacy-60-g.fits', 'AGC11834-legacy-60.jpg') g AGC11834\n",
      "previously downloaded  AGC11834-legacy-60.jpg\n",
      "previously downloaded  AGC11834-legacy-60-r.fits\n",
      "return from get_legacy_images =  ('AGC11834-legacy-60-r.fits', 'AGC11834-legacy-60.jpg') r AGC11834\n",
      "previously downloaded  AGC11834-legacy-60.jpg\n",
      "previously downloaded  AGC11834-legacy-60-z.fits\n",
      "return from get_legacy_images =  ('AGC11834-legacy-60-z.fits', 'AGC11834-legacy-60.jpg') z AGC11834\n",
      "unwise images already downloaded\n",
      "['AGC12165-unwise-3401p333-w1-img-m.fits', 'AGC12165-unwise-3401p333-w4-img-m.fits', 'AGC12165-unwise-3401p333-w2-img-m.fits', 'AGC12165-unwise-3401p333-w3-img-m.fits']\n",
      "previously downloaded  AGC12165-legacy-60.jpg\n",
      "previously downloaded  AGC12165-legacy-60-g.fits\n",
      "return from get_legacy_images =  ('AGC12165-legacy-60-g.fits', 'AGC12165-legacy-60.jpg') g AGC12165\n",
      "previously downloaded  AGC12165-legacy-60.jpg\n",
      "previously downloaded  AGC12165-legacy-60-r.fits\n",
      "return from get_legacy_images =  ('AGC12165-legacy-60-r.fits', 'AGC12165-legacy-60.jpg') r AGC12165\n",
      "previously downloaded  AGC12165-legacy-60.jpg\n",
      "previously downloaded  AGC12165-legacy-60-z.fits\n",
      "return from get_legacy_images =  ('AGC12165-legacy-60-z.fits', 'AGC12165-legacy-60.jpg') z AGC12165\n",
      "unwise images already downloaded\n",
      "['AGC322491-unwise-3304p302-w3-img-m.fits', 'AGC322491-unwise-3304p302-w4-img-m.fits', 'AGC322491-unwise-3304p302-w2-img-m.fits', 'AGC322491-unwise-3304p302-w1-img-m.fits']\n",
      "previously downloaded  AGC322491-legacy-60.jpg\n",
      "previously downloaded  AGC322491-legacy-60-g.fits\n",
      "WARNING: GALAXY AGC322491 IS OUTSIDE LEGACY FOOTPRINT\n",
      "unwise images already downloaded\n",
      "['AGC322494-unwise-3308p287-w1-img-m.fits', 'AGC322494-unwise-3304p302-w4-img-m.fits', 'AGC322494-unwise-3304p302-w2-img-m.fits', 'AGC322494-unwise-3308p287-w3-img-m.fits', 'AGC322494-unwise-3308p287-w2-img-m.fits', 'AGC322494-unwise-3304p302-w3-img-m.fits', 'AGC322494-unwise-3308p287-w4-img-m.fits', 'AGC322494-unwise-3304p302-w1-img-m.fits']\n",
      "going to try new stacking for wise multiframe\n",
      "running swarp to combine multiple unwise images in band  1\n",
      "swarp AGC322494-unwise-3308p287-w1-img-m.fits AGC322494-unwise-3304p302-w1-img-m.fits -COMBINE_TYPE AVERAGE -WEIGHT_SUFFIX .std.fits -SUBTRACT_BACK N\n",
      "running swarp to combine multiple unwise images in band  2\n",
      "swarp AGC322494-unwise-3304p302-w2-img-m.fits AGC322494-unwise-3308p287-w2-img-m.fits -COMBINE_TYPE AVERAGE -WEIGHT_SUFFIX .std.fits -SUBTRACT_BACK N\n",
      "running swarp to combine multiple unwise images in band  3\n",
      "swarp AGC322494-unwise-3308p287-w3-img-m.fits AGC322494-unwise-3304p302-w3-img-m.fits -COMBINE_TYPE AVERAGE -WEIGHT_SUFFIX .std.fits -SUBTRACT_BACK N\n",
      "running swarp to combine multiple unwise images in band  4\n",
      "swarp AGC322494-unwise-3304p302-w4-img-m.fits AGC322494-unwise-3308p287-w4-img-m.fits -COMBINE_TYPE AVERAGE -WEIGHT_SUFFIX .std.fits -SUBTRACT_BACK N\n",
      "previously downloaded  AGC322494-legacy-60.jpg\n",
      "previously downloaded  AGC322494-legacy-60-g.fits\n",
      "return from get_legacy_images =  ('AGC322494-legacy-60-g.fits', 'AGC322494-legacy-60.jpg') g AGC322494\n",
      "previously downloaded  AGC322494-legacy-60.jpg\n",
      "previously downloaded  AGC322494-legacy-60-r.fits\n",
      "return from get_legacy_images =  ('AGC322494-legacy-60-r.fits', 'AGC322494-legacy-60.jpg') r AGC322494\n",
      "previously downloaded  AGC322494-legacy-60.jpg\n",
      "previously downloaded  AGC322494-legacy-60-z.fits\n",
      "return from get_legacy_images =  ('AGC322494-legacy-60-z.fits', 'AGC322494-legacy-60.jpg') z AGC322494\n",
      "unwise images already downloaded\n",
      "['AGC323399-unwise-3319p242-w1-img-m.fits', 'AGC323399-unwise-3319p242-w2-img-m.fits', 'AGC323399-unwise-3319p242-w4-img-m.fits', 'AGC323399-unwise-3319p242-w3-img-m.fits']\n",
      "previously downloaded  AGC323399-legacy-60.jpg\n",
      "previously downloaded  AGC323399-legacy-60-g.fits\n",
      "return from get_legacy_images =  ('AGC323399-legacy-60-g.fits', 'AGC323399-legacy-60.jpg') g AGC323399\n",
      "previously downloaded  AGC323399-legacy-60.jpg\n",
      "previously downloaded  AGC323399-legacy-60-r.fits\n",
      "return from get_legacy_images =  ('AGC323399-legacy-60-r.fits', 'AGC323399-legacy-60.jpg') r AGC323399\n",
      "previously downloaded  AGC323399-legacy-60.jpg\n",
      "previously downloaded  AGC323399-legacy-60-z.fits\n",
      "return from get_legacy_images =  ('AGC323399-legacy-60-z.fits', 'AGC323399-legacy-60.jpg') z AGC323399\n",
      "unwise images already downloaded\n",
      "['AGC323400-unwise-3325p287-w2-img-m.fits', 'AGC323400-unwise-3325p287-w3-img-m.fits', 'AGC323400-unwise-3325p287-w1-img-m.fits', 'AGC323400-unwise-3325p287-w4-img-m.fits']\n",
      "previously downloaded  AGC323400-legacy-60.jpg\n",
      "previously downloaded  AGC323400-legacy-60-g.fits\n",
      "return from get_legacy_images =  ('AGC323400-legacy-60-g.fits', 'AGC323400-legacy-60.jpg') g AGC323400\n",
      "previously downloaded  AGC323400-legacy-60.jpg\n",
      "previously downloaded  AGC323400-legacy-60-r.fits\n",
      "return from get_legacy_images =  ('AGC323400-legacy-60-r.fits', 'AGC323400-legacy-60.jpg') r AGC323400\n",
      "previously downloaded  AGC323400-legacy-60.jpg\n",
      "previously downloaded  AGC323400-legacy-60-z.fits\n",
      "return from get_legacy_images =  ('AGC323400-legacy-60-z.fits', 'AGC323400-legacy-60.jpg') z AGC323400\n",
      "unwise images already downloaded\n",
      "['AGC322496-unwise-3321p302-w3-img-m.fits', 'AGC322496-unwise-3321p302-w2-img-m.fits', 'AGC322496-unwise-3321p302-w4-img-m.fits', 'AGC322496-unwise-3321p302-w1-img-m.fits']\n",
      "previously downloaded  AGC322496-legacy-60.jpg\n",
      "previously downloaded  AGC322496-legacy-60-g.fits\n",
      "return from get_legacy_images =  ('AGC322496-legacy-60-g.fits', 'AGC322496-legacy-60.jpg') g AGC322496\n",
      "previously downloaded  AGC322496-legacy-60.jpg\n",
      "previously downloaded  AGC322496-legacy-60-r.fits\n",
      "return from get_legacy_images =  ('AGC322496-legacy-60-r.fits', 'AGC322496-legacy-60.jpg') r AGC322496\n",
      "previously downloaded  AGC322496-legacy-60.jpg\n",
      "previously downloaded  AGC322496-legacy-60-z.fits\n",
      "WARNING: GALAXY AGC322496 IS OUTSIDE LEGACY FOOTPRINT\n",
      "unwise images already downloaded\n",
      "['AGC321315-unwise-3319p242-w2-img-m.fits', 'AGC321315-unwise-3319p242-w1-img-m.fits', 'AGC321315-unwise-3319p242-w3-img-m.fits', 'AGC321315-unwise-3319p242-w4-img-m.fits']\n",
      "previously downloaded  AGC321315-legacy-60.jpg\n",
      "previously downloaded  AGC321315-legacy-60-g.fits\n",
      "return from get_legacy_images =  ('AGC321315-legacy-60-g.fits', 'AGC321315-legacy-60.jpg') g AGC321315\n",
      "previously downloaded  AGC321315-legacy-60.jpg\n",
      "previously downloaded  AGC321315-legacy-60-r.fits\n",
      "return from get_legacy_images =  ('AGC321315-legacy-60-r.fits', 'AGC321315-legacy-60.jpg') r AGC321315\n",
      "previously downloaded  AGC321315-legacy-60.jpg\n",
      "previously downloaded  AGC321315-legacy-60-z.fits\n",
      "return from get_legacy_images =  ('AGC321315-legacy-60-z.fits', 'AGC321315-legacy-60.jpg') z AGC321315\n",
      "unwise images already downloaded\n",
      "['AGC321196-unwise-3295p272-w4-img-m.fits', 'AGC321196-unwise-3295p272-w2-img-m.fits', 'AGC321196-unwise-3295p272-w3-img-m.fits', 'AGC321196-unwise-3295p272-w1-img-m.fits']\n",
      "previously downloaded  AGC321196-legacy-60.jpg\n",
      "previously downloaded  AGC321196-legacy-60-g.fits\n",
      "return from get_legacy_images =  ('AGC321196-legacy-60-g.fits', 'AGC321196-legacy-60.jpg') g AGC321196\n",
      "previously downloaded  AGC321196-legacy-60.jpg\n",
      "previously downloaded  AGC321196-legacy-60-r.fits\n",
      "return from get_legacy_images =  ('AGC321196-legacy-60-r.fits', 'AGC321196-legacy-60.jpg') r AGC321196\n",
      "previously downloaded  AGC321196-legacy-60.jpg\n",
      "previously downloaded  AGC321196-legacy-60-z.fits\n",
      "return from get_legacy_images =  ('AGC321196-legacy-60-z.fits', 'AGC321196-legacy-60.jpg') z AGC321196\n",
      "unwise images already downloaded\n",
      "['AGC322498-unwise-3335p242-w2-img-m.fits', 'AGC322498-unwise-3335p242-w3-img-m.fits', 'AGC322498-unwise-3335p242-w1-img-m.fits', 'AGC322498-unwise-3335p242-w4-img-m.fits']\n",
      "previously downloaded  AGC322498-legacy-60.jpg\n",
      "previously downloaded  AGC322498-legacy-60-g.fits\n",
      "return from get_legacy_images =  ('AGC322498-legacy-60-g.fits', 'AGC322498-legacy-60.jpg') g AGC322498\n",
      "previously downloaded  AGC322498-legacy-60.jpg\n",
      "previously downloaded  AGC322498-legacy-60-r.fits\n",
      "return from get_legacy_images =  ('AGC322498-legacy-60-r.fits', 'AGC322498-legacy-60.jpg') r AGC322498\n",
      "previously downloaded  AGC322498-legacy-60.jpg\n",
      "previously downloaded  AGC322498-legacy-60-z.fits\n",
      "return from get_legacy_images =  ('AGC322498-legacy-60-z.fits', 'AGC322498-legacy-60.jpg') z AGC322498\n"
     ]
    },
    {
     "name": "stdout",
     "output_type": "stream",
     "text": [
      "unwise images already downloaded\n",
      "['AGC322503-unwise-3335p242-w3-img-m.fits', 'AGC322503-unwise-3335p242-w4-img-m.fits', 'AGC322503-unwise-3335p242-w1-img-m.fits', 'AGC322503-unwise-3335p242-w2-img-m.fits']\n",
      "previously downloaded  AGC322503-legacy-60.jpg\n",
      "previously downloaded  AGC322503-legacy-60-g.fits\n",
      "return from get_legacy_images =  ('AGC322503-legacy-60-g.fits', 'AGC322503-legacy-60.jpg') g AGC322503\n",
      "previously downloaded  AGC322503-legacy-60.jpg\n",
      "previously downloaded  AGC322503-legacy-60-r.fits\n",
      "return from get_legacy_images =  ('AGC322503-legacy-60-r.fits', 'AGC322503-legacy-60.jpg') r AGC322503\n",
      "previously downloaded  AGC322503-legacy-60.jpg\n",
      "previously downloaded  AGC322503-legacy-60-z.fits\n",
      "return from get_legacy_images =  ('AGC322503-legacy-60-z.fits', 'AGC322503-legacy-60.jpg') z AGC322503\n",
      "unwise images already downloaded\n",
      "['AGC322988-unwise-3342p287-w4-img-m.fits', 'AGC322988-unwise-3342p287-w2-img-m.fits', 'AGC322988-unwise-3342p287-w1-img-m.fits', 'AGC322988-unwise-3342p287-w3-img-m.fits']\n",
      "previously downloaded  AGC322988-legacy-60.jpg\n",
      "previously downloaded  AGC322988-legacy-60-g.fits\n",
      "return from get_legacy_images =  ('AGC322988-legacy-60-g.fits', 'AGC322988-legacy-60.jpg') g AGC322988\n",
      "previously downloaded  AGC322988-legacy-60.jpg\n",
      "previously downloaded  AGC322988-legacy-60-r.fits\n",
      "return from get_legacy_images =  ('AGC322988-legacy-60-r.fits', 'AGC322988-legacy-60.jpg') r AGC322988\n",
      "previously downloaded  AGC322988-legacy-60.jpg\n",
      "previously downloaded  AGC322988-legacy-60-z.fits\n",
      "return from get_legacy_images =  ('AGC322988-legacy-60-z.fits', 'AGC322988-legacy-60.jpg') z AGC322988\n",
      "unwise images already downloaded\n",
      "['AGC322057-unwise-3335p242-w3-img-m.fits', 'AGC322057-unwise-3335p242-w1-img-m.fits', 'AGC322057-unwise-3335p242-w4-img-m.fits', 'AGC322057-unwise-3335p242-w2-img-m.fits']\n",
      "previously downloaded  AGC322057-legacy-60.jpg\n",
      "previously downloaded  AGC322057-legacy-60-g.fits\n",
      "return from get_legacy_images =  ('AGC322057-legacy-60-g.fits', 'AGC322057-legacy-60.jpg') g AGC322057\n",
      "previously downloaded  AGC322057-legacy-60.jpg\n",
      "previously downloaded  AGC322057-legacy-60-r.fits\n",
      "return from get_legacy_images =  ('AGC322057-legacy-60-r.fits', 'AGC322057-legacy-60.jpg') r AGC322057\n",
      "previously downloaded  AGC322057-legacy-60.jpg\n",
      "previously downloaded  AGC322057-legacy-60-z.fits\n",
      "return from get_legacy_images =  ('AGC322057-legacy-60-z.fits', 'AGC322057-legacy-60.jpg') z AGC322057\n",
      "unwise images already downloaded\n",
      "['AGC323025-unwise-3352p242-w2-img-m.fits', 'AGC323025-unwise-3352p242-w4-img-m.fits', 'AGC323025-unwise-3352p242-w3-img-m.fits', 'AGC323025-unwise-3352p242-w1-img-m.fits']\n",
      "previously downloaded  AGC323025-legacy-60.jpg\n",
      "previously downloaded  AGC323025-legacy-60-g.fits\n",
      "return from get_legacy_images =  ('AGC323025-legacy-60-g.fits', 'AGC323025-legacy-60.jpg') g AGC323025\n",
      "previously downloaded  AGC323025-legacy-60.jpg\n",
      "previously downloaded  AGC323025-legacy-60-r.fits\n",
      "return from get_legacy_images =  ('AGC323025-legacy-60-r.fits', 'AGC323025-legacy-60.jpg') r AGC323025\n",
      "previously downloaded  AGC323025-legacy-60.jpg\n",
      "previously downloaded  AGC323025-legacy-60-z.fits\n",
      "return from get_legacy_images =  ('AGC323025-legacy-60-z.fits', 'AGC323025-legacy-60.jpg') z AGC323025\n",
      "unwise images already downloaded\n",
      "['AGC322989-unwise-3352p242-w1-img-m.fits', 'AGC322989-unwise-3352p242-w2-img-m.fits', 'AGC322989-unwise-3352p242-w4-img-m.fits', 'AGC322989-unwise-3352p242-w3-img-m.fits']\n",
      "previously downloaded  AGC322989-legacy-60.jpg\n",
      "previously downloaded  AGC322989-legacy-60-g.fits\n",
      "return from get_legacy_images =  ('AGC322989-legacy-60-g.fits', 'AGC322989-legacy-60.jpg') g AGC322989\n",
      "previously downloaded  AGC322989-legacy-60.jpg\n",
      "previously downloaded  AGC322989-legacy-60-r.fits\n",
      "return from get_legacy_images =  ('AGC322989-legacy-60-r.fits', 'AGC322989-legacy-60.jpg') r AGC322989\n",
      "previously downloaded  AGC322989-legacy-60.jpg\n",
      "previously downloaded  AGC322989-legacy-60-z.fits\n",
      "return from get_legacy_images =  ('AGC322989-legacy-60-z.fits', 'AGC322989-legacy-60.jpg') z AGC322989\n",
      "unwise images already downloaded\n",
      "['AGC321473-unwise-3342p287-w4-img-m.fits', 'AGC321473-unwise-3342p287-w1-img-m.fits', 'AGC321473-unwise-3342p287-w3-img-m.fits', 'AGC321473-unwise-3342p287-w2-img-m.fits']\n",
      "previously downloaded  AGC321473-legacy-60.jpg\n",
      "previously downloaded  AGC321473-legacy-60-g.fits\n",
      "return from get_legacy_images =  ('AGC321473-legacy-60-g.fits', 'AGC321473-legacy-60.jpg') g AGC321473\n",
      "previously downloaded  AGC321473-legacy-60.jpg\n",
      "previously downloaded  AGC321473-legacy-60-r.fits\n",
      "return from get_legacy_images =  ('AGC321473-legacy-60-r.fits', 'AGC321473-legacy-60.jpg') r AGC321473\n",
      "previously downloaded  AGC321473-legacy-60.jpg\n",
      "previously downloaded  AGC321473-legacy-60-z.fits\n",
      "return from get_legacy_images =  ('AGC321473-legacy-60-z.fits', 'AGC321473-legacy-60.jpg') z AGC321473\n",
      "unwise images already downloaded\n",
      "['AGC323100-unwise-3347p333-w2-img-m.fits', 'AGC323100-unwise-3347p333-w3-img-m.fits', 'AGC323100-unwise-3347p333-w1-img-m.fits', 'AGC323100-unwise-3347p333-w4-img-m.fits']\n",
      "previously downloaded  AGC323100-legacy-60.jpg\n",
      "previously downloaded  AGC323100-legacy-60-g.fits\n",
      "return from get_legacy_images =  ('AGC323100-legacy-60-g.fits', 'AGC323100-legacy-60.jpg') g AGC323100\n",
      "previously downloaded  AGC323100-legacy-60.jpg\n",
      "previously downloaded  AGC323100-legacy-60-r.fits\n",
      "return from get_legacy_images =  ('AGC323100-legacy-60-r.fits', 'AGC323100-legacy-60.jpg') r AGC323100\n",
      "previously downloaded  AGC323100-legacy-60.jpg\n",
      "previously downloaded  AGC323100-legacy-60-z.fits\n",
      "return from get_legacy_images =  ('AGC323100-legacy-60-z.fits', 'AGC323100-legacy-60.jpg') z AGC323100\n",
      "unwise images already downloaded\n",
      "['AGC11993-unwise-3344p348-w4-img-m.fits', 'AGC11993-unwise-3344p348-w1-img-m.fits', 'AGC11993-unwise-3344p348-w3-img-m.fits', 'AGC11993-unwise-3344p348-w2-img-m.fits']\n",
      "retrieving  AGC11993-legacy-60.jpg\n"
     ]
    },
    {
     "ename": "HTTPError",
     "evalue": "HTTP Error 500: Internal Server Error",
     "output_type": "error",
     "traceback": [
      "\u001b[0;31m---------------------------------------------------------------------------\u001b[0m",
      "\u001b[0;31mHTTPError\u001b[0m                                 Traceback (most recent call last)",
      "\u001b[0;32m<ipython-input-37-f81efc51c346>\u001b[0m in \u001b[0;36m<module>\u001b[0;34m\u001b[0m\n\u001b[1;32m      8\u001b[0m     \u001b[0mgalname\u001b[0m \u001b[0;34m=\u001b[0m \u001b[0;34m'AGC'\u001b[0m\u001b[0;34m+\u001b[0m\u001b[0mstr\u001b[0m\u001b[0;34m(\u001b[0m\u001b[0mapps\u001b[0m\u001b[0;34m[\u001b[0m\u001b[0;34m'agcnum'\u001b[0m\u001b[0;34m]\u001b[0m\u001b[0;34m[\u001b[0m\u001b[0mi\u001b[0m\u001b[0;34m]\u001b[0m\u001b[0;34m)\u001b[0m\u001b[0;34m\u001b[0m\u001b[0;34m\u001b[0m\u001b[0m\n\u001b[1;32m      9\u001b[0m \u001b[0;34m\u001b[0m\u001b[0m\n\u001b[0;32m---> 10\u001b[0;31m     \u001b[0mdisplay_legacy_unwise\u001b[0m\u001b[0;34m(\u001b[0m\u001b[0mra\u001b[0m\u001b[0;34m,\u001b[0m\u001b[0mdec\u001b[0m\u001b[0;34m,\u001b[0m\u001b[0mgalname\u001b[0m\u001b[0;34m,\u001b[0m\u001b[0mimsize_arcsec\u001b[0m\u001b[0;34m=\u001b[0m\u001b[0;36m60\u001b[0m\u001b[0;34m,\u001b[0m\u001b[0mplotdir\u001b[0m\u001b[0;34m=\u001b[0m\u001b[0mplotdir\u001b[0m\u001b[0;34m)\u001b[0m\u001b[0;34m\u001b[0m\u001b[0;34m\u001b[0m\u001b[0m\n\u001b[0m\u001b[1;32m     11\u001b[0m \u001b[0;34m\u001b[0m\u001b[0m\n\u001b[1;32m     12\u001b[0m \u001b[0;34m\u001b[0m\u001b[0m\n",
      "\u001b[0;32m~/github/APPSS/python/image_functions.py\u001b[0m in \u001b[0;36mdisplay_legacy_unwise\u001b[0;34m(ra, dec, galname, imsize_arcsec, plotdir)\u001b[0m\n\u001b[1;32m    412\u001b[0m         \u001b[0;32melse\u001b[0m\u001b[0;34m:\u001b[0m\u001b[0;34m\u001b[0m\u001b[0;34m\u001b[0m\u001b[0m\n\u001b[1;32m    413\u001b[0m             \u001b[0mgetjpg\u001b[0m \u001b[0;34m=\u001b[0m \u001b[0;32mFalse\u001b[0m\u001b[0;34m\u001b[0m\u001b[0;34m\u001b[0m\u001b[0m\n\u001b[0;32m--> 414\u001b[0;31m         \u001b[0mt\u001b[0m \u001b[0;34m=\u001b[0m \u001b[0mget_legacy_images\u001b[0m\u001b[0;34m(\u001b[0m\u001b[0mra\u001b[0m\u001b[0;34m,\u001b[0m\u001b[0mdec\u001b[0m\u001b[0;34m,\u001b[0m\u001b[0mgalid\u001b[0m\u001b[0;34m=\u001b[0m\u001b[0mgalname\u001b[0m\u001b[0;34m,\u001b[0m\u001b[0mband\u001b[0m\u001b[0;34m=\u001b[0m\u001b[0mb\u001b[0m\u001b[0;34m,\u001b[0m\u001b[0mmakeplots\u001b[0m\u001b[0;34m=\u001b[0m\u001b[0;32mFalse\u001b[0m\u001b[0;34m,\u001b[0m\u001b[0mimsize\u001b[0m\u001b[0;34m=\u001b[0m\u001b[0mstr\u001b[0m\u001b[0;34m(\u001b[0m\u001b[0mimsize_pixels_legacy\u001b[0m\u001b[0;34m)\u001b[0m\u001b[0;34m)\u001b[0m\u001b[0;34m\u001b[0m\u001b[0;34m\u001b[0m\u001b[0m\n\u001b[0m\u001b[1;32m    415\u001b[0m         \u001b[0;32mif\u001b[0m \u001b[0mt\u001b[0m \u001b[0;32mis\u001b[0m \u001b[0;32mNone\u001b[0m\u001b[0;34m:\u001b[0m\u001b[0;34m\u001b[0m\u001b[0;34m\u001b[0m\u001b[0m\n\u001b[1;32m    416\u001b[0m             \u001b[0mprint\u001b[0m\u001b[0;34m(\u001b[0m\u001b[0;34mf\"WARNING: GALAXY {galname} IS OUTSIDE LEGACY FOOTPRINT\"\u001b[0m\u001b[0;34m)\u001b[0m\u001b[0;34m\u001b[0m\u001b[0;34m\u001b[0m\u001b[0m\n",
      "\u001b[0;32m~/github/APPSS/python/image_functions.py\u001b[0m in \u001b[0;36mget_legacy_images\u001b[0;34m(ra, dec, galid, pixscale, imsize, band, makeplots, subfolder)\u001b[0m\n\u001b[1;32m     69\u001b[0m         \u001b[0mprint\u001b[0m\u001b[0;34m(\u001b[0m\u001b[0;34m'retrieving '\u001b[0m\u001b[0;34m,\u001b[0m\u001b[0mjpeg_name\u001b[0m\u001b[0;34m)\u001b[0m\u001b[0;34m\u001b[0m\u001b[0;34m\u001b[0m\u001b[0m\n\u001b[1;32m     70\u001b[0m         \u001b[0murl\u001b[0m\u001b[0;34m=\u001b[0m\u001b[0;34m'http://legacysurvey.org/viewer/jpeg-cutout?ra='\u001b[0m\u001b[0;34m+\u001b[0m\u001b[0mstr\u001b[0m\u001b[0;34m(\u001b[0m\u001b[0mra\u001b[0m\u001b[0;34m)\u001b[0m\u001b[0;34m+\u001b[0m\u001b[0;34m'&dec='\u001b[0m\u001b[0;34m+\u001b[0m\u001b[0mstr\u001b[0m\u001b[0;34m(\u001b[0m\u001b[0mdec\u001b[0m\u001b[0;34m)\u001b[0m\u001b[0;34m+\u001b[0m\u001b[0;34m'&layer=dr8&size='\u001b[0m\u001b[0;34m+\u001b[0m\u001b[0mstr\u001b[0m\u001b[0;34m(\u001b[0m\u001b[0mimsize\u001b[0m\u001b[0;34m)\u001b[0m\u001b[0;34m+\u001b[0m\u001b[0;34m'&pixscale='\u001b[0m\u001b[0;34m+\u001b[0m\u001b[0mstr\u001b[0m\u001b[0;34m(\u001b[0m\u001b[0mpixscale\u001b[0m\u001b[0;34m)\u001b[0m\u001b[0;34m\u001b[0m\u001b[0;34m\u001b[0m\u001b[0m\n\u001b[0;32m---> 71\u001b[0;31m         \u001b[0murlretrieve\u001b[0m\u001b[0;34m(\u001b[0m\u001b[0murl\u001b[0m\u001b[0;34m,\u001b[0m \u001b[0mjpeg_name\u001b[0m\u001b[0;34m)\u001b[0m\u001b[0;34m\u001b[0m\u001b[0;34m\u001b[0m\u001b[0m\n\u001b[0m\u001b[1;32m     72\u001b[0m     \u001b[0;32melse\u001b[0m\u001b[0;34m:\u001b[0m\u001b[0;34m\u001b[0m\u001b[0;34m\u001b[0m\u001b[0m\n\u001b[1;32m     73\u001b[0m         \u001b[0mprint\u001b[0m\u001b[0;34m(\u001b[0m\u001b[0;34m'previously downloaded '\u001b[0m\u001b[0;34m,\u001b[0m\u001b[0mjpeg_name\u001b[0m\u001b[0;34m)\u001b[0m\u001b[0;34m\u001b[0m\u001b[0;34m\u001b[0m\u001b[0m\n",
      "\u001b[0;32m~/anaconda3/lib/python3.7/urllib/request.py\u001b[0m in \u001b[0;36murlretrieve\u001b[0;34m(url, filename, reporthook, data)\u001b[0m\n\u001b[1;32m    245\u001b[0m     \u001b[0murl_type\u001b[0m\u001b[0;34m,\u001b[0m \u001b[0mpath\u001b[0m \u001b[0;34m=\u001b[0m \u001b[0msplittype\u001b[0m\u001b[0;34m(\u001b[0m\u001b[0murl\u001b[0m\u001b[0;34m)\u001b[0m\u001b[0;34m\u001b[0m\u001b[0;34m\u001b[0m\u001b[0m\n\u001b[1;32m    246\u001b[0m \u001b[0;34m\u001b[0m\u001b[0m\n\u001b[0;32m--> 247\u001b[0;31m     \u001b[0;32mwith\u001b[0m \u001b[0mcontextlib\u001b[0m\u001b[0;34m.\u001b[0m\u001b[0mclosing\u001b[0m\u001b[0;34m(\u001b[0m\u001b[0murlopen\u001b[0m\u001b[0;34m(\u001b[0m\u001b[0murl\u001b[0m\u001b[0;34m,\u001b[0m \u001b[0mdata\u001b[0m\u001b[0;34m)\u001b[0m\u001b[0;34m)\u001b[0m \u001b[0;32mas\u001b[0m \u001b[0mfp\u001b[0m\u001b[0;34m:\u001b[0m\u001b[0;34m\u001b[0m\u001b[0;34m\u001b[0m\u001b[0m\n\u001b[0m\u001b[1;32m    248\u001b[0m         \u001b[0mheaders\u001b[0m \u001b[0;34m=\u001b[0m \u001b[0mfp\u001b[0m\u001b[0;34m.\u001b[0m\u001b[0minfo\u001b[0m\u001b[0;34m(\u001b[0m\u001b[0;34m)\u001b[0m\u001b[0;34m\u001b[0m\u001b[0;34m\u001b[0m\u001b[0m\n\u001b[1;32m    249\u001b[0m \u001b[0;34m\u001b[0m\u001b[0m\n",
      "\u001b[0;32m~/anaconda3/lib/python3.7/urllib/request.py\u001b[0m in \u001b[0;36murlopen\u001b[0;34m(url, data, timeout, cafile, capath, cadefault, context)\u001b[0m\n\u001b[1;32m    220\u001b[0m     \u001b[0;32melse\u001b[0m\u001b[0;34m:\u001b[0m\u001b[0;34m\u001b[0m\u001b[0;34m\u001b[0m\u001b[0m\n\u001b[1;32m    221\u001b[0m         \u001b[0mopener\u001b[0m \u001b[0;34m=\u001b[0m \u001b[0m_opener\u001b[0m\u001b[0;34m\u001b[0m\u001b[0;34m\u001b[0m\u001b[0m\n\u001b[0;32m--> 222\u001b[0;31m     \u001b[0;32mreturn\u001b[0m \u001b[0mopener\u001b[0m\u001b[0;34m.\u001b[0m\u001b[0mopen\u001b[0m\u001b[0;34m(\u001b[0m\u001b[0murl\u001b[0m\u001b[0;34m,\u001b[0m \u001b[0mdata\u001b[0m\u001b[0;34m,\u001b[0m \u001b[0mtimeout\u001b[0m\u001b[0;34m)\u001b[0m\u001b[0;34m\u001b[0m\u001b[0;34m\u001b[0m\u001b[0m\n\u001b[0m\u001b[1;32m    223\u001b[0m \u001b[0;34m\u001b[0m\u001b[0m\n\u001b[1;32m    224\u001b[0m \u001b[0;32mdef\u001b[0m \u001b[0minstall_opener\u001b[0m\u001b[0;34m(\u001b[0m\u001b[0mopener\u001b[0m\u001b[0;34m)\u001b[0m\u001b[0;34m:\u001b[0m\u001b[0;34m\u001b[0m\u001b[0;34m\u001b[0m\u001b[0m\n",
      "\u001b[0;32m~/anaconda3/lib/python3.7/urllib/request.py\u001b[0m in \u001b[0;36mopen\u001b[0;34m(self, fullurl, data, timeout)\u001b[0m\n\u001b[1;32m    529\u001b[0m         \u001b[0;32mfor\u001b[0m \u001b[0mprocessor\u001b[0m \u001b[0;32min\u001b[0m \u001b[0mself\u001b[0m\u001b[0;34m.\u001b[0m\u001b[0mprocess_response\u001b[0m\u001b[0;34m.\u001b[0m\u001b[0mget\u001b[0m\u001b[0;34m(\u001b[0m\u001b[0mprotocol\u001b[0m\u001b[0;34m,\u001b[0m \u001b[0;34m[\u001b[0m\u001b[0;34m]\u001b[0m\u001b[0;34m)\u001b[0m\u001b[0;34m:\u001b[0m\u001b[0;34m\u001b[0m\u001b[0;34m\u001b[0m\u001b[0m\n\u001b[1;32m    530\u001b[0m             \u001b[0mmeth\u001b[0m \u001b[0;34m=\u001b[0m \u001b[0mgetattr\u001b[0m\u001b[0;34m(\u001b[0m\u001b[0mprocessor\u001b[0m\u001b[0;34m,\u001b[0m \u001b[0mmeth_name\u001b[0m\u001b[0;34m)\u001b[0m\u001b[0;34m\u001b[0m\u001b[0;34m\u001b[0m\u001b[0m\n\u001b[0;32m--> 531\u001b[0;31m             \u001b[0mresponse\u001b[0m \u001b[0;34m=\u001b[0m \u001b[0mmeth\u001b[0m\u001b[0;34m(\u001b[0m\u001b[0mreq\u001b[0m\u001b[0;34m,\u001b[0m \u001b[0mresponse\u001b[0m\u001b[0;34m)\u001b[0m\u001b[0;34m\u001b[0m\u001b[0;34m\u001b[0m\u001b[0m\n\u001b[0m\u001b[1;32m    532\u001b[0m \u001b[0;34m\u001b[0m\u001b[0m\n\u001b[1;32m    533\u001b[0m         \u001b[0;32mreturn\u001b[0m \u001b[0mresponse\u001b[0m\u001b[0;34m\u001b[0m\u001b[0;34m\u001b[0m\u001b[0m\n",
      "\u001b[0;32m~/anaconda3/lib/python3.7/urllib/request.py\u001b[0m in \u001b[0;36mhttp_response\u001b[0;34m(self, request, response)\u001b[0m\n\u001b[1;32m    639\u001b[0m         \u001b[0;32mif\u001b[0m \u001b[0;32mnot\u001b[0m \u001b[0;34m(\u001b[0m\u001b[0;36m200\u001b[0m \u001b[0;34m<=\u001b[0m \u001b[0mcode\u001b[0m \u001b[0;34m<\u001b[0m \u001b[0;36m300\u001b[0m\u001b[0;34m)\u001b[0m\u001b[0;34m:\u001b[0m\u001b[0;34m\u001b[0m\u001b[0;34m\u001b[0m\u001b[0m\n\u001b[1;32m    640\u001b[0m             response = self.parent.error(\n\u001b[0;32m--> 641\u001b[0;31m                 'http', request, response, code, msg, hdrs)\n\u001b[0m\u001b[1;32m    642\u001b[0m \u001b[0;34m\u001b[0m\u001b[0m\n\u001b[1;32m    643\u001b[0m         \u001b[0;32mreturn\u001b[0m \u001b[0mresponse\u001b[0m\u001b[0;34m\u001b[0m\u001b[0;34m\u001b[0m\u001b[0m\n",
      "\u001b[0;32m~/anaconda3/lib/python3.7/urllib/request.py\u001b[0m in \u001b[0;36merror\u001b[0;34m(self, proto, *args)\u001b[0m\n\u001b[1;32m    561\u001b[0m             \u001b[0mhttp_err\u001b[0m \u001b[0;34m=\u001b[0m \u001b[0;36m0\u001b[0m\u001b[0;34m\u001b[0m\u001b[0;34m\u001b[0m\u001b[0m\n\u001b[1;32m    562\u001b[0m         \u001b[0margs\u001b[0m \u001b[0;34m=\u001b[0m \u001b[0;34m(\u001b[0m\u001b[0mdict\u001b[0m\u001b[0;34m,\u001b[0m \u001b[0mproto\u001b[0m\u001b[0;34m,\u001b[0m \u001b[0mmeth_name\u001b[0m\u001b[0;34m)\u001b[0m \u001b[0;34m+\u001b[0m \u001b[0margs\u001b[0m\u001b[0;34m\u001b[0m\u001b[0;34m\u001b[0m\u001b[0m\n\u001b[0;32m--> 563\u001b[0;31m         \u001b[0mresult\u001b[0m \u001b[0;34m=\u001b[0m \u001b[0mself\u001b[0m\u001b[0;34m.\u001b[0m\u001b[0m_call_chain\u001b[0m\u001b[0;34m(\u001b[0m\u001b[0;34m*\u001b[0m\u001b[0margs\u001b[0m\u001b[0;34m)\u001b[0m\u001b[0;34m\u001b[0m\u001b[0;34m\u001b[0m\u001b[0m\n\u001b[0m\u001b[1;32m    564\u001b[0m         \u001b[0;32mif\u001b[0m \u001b[0mresult\u001b[0m\u001b[0;34m:\u001b[0m\u001b[0;34m\u001b[0m\u001b[0;34m\u001b[0m\u001b[0m\n\u001b[1;32m    565\u001b[0m             \u001b[0;32mreturn\u001b[0m \u001b[0mresult\u001b[0m\u001b[0;34m\u001b[0m\u001b[0;34m\u001b[0m\u001b[0m\n",
      "\u001b[0;32m~/anaconda3/lib/python3.7/urllib/request.py\u001b[0m in \u001b[0;36m_call_chain\u001b[0;34m(self, chain, kind, meth_name, *args)\u001b[0m\n\u001b[1;32m    501\u001b[0m         \u001b[0;32mfor\u001b[0m \u001b[0mhandler\u001b[0m \u001b[0;32min\u001b[0m \u001b[0mhandlers\u001b[0m\u001b[0;34m:\u001b[0m\u001b[0;34m\u001b[0m\u001b[0;34m\u001b[0m\u001b[0m\n\u001b[1;32m    502\u001b[0m             \u001b[0mfunc\u001b[0m \u001b[0;34m=\u001b[0m \u001b[0mgetattr\u001b[0m\u001b[0;34m(\u001b[0m\u001b[0mhandler\u001b[0m\u001b[0;34m,\u001b[0m \u001b[0mmeth_name\u001b[0m\u001b[0;34m)\u001b[0m\u001b[0;34m\u001b[0m\u001b[0;34m\u001b[0m\u001b[0m\n\u001b[0;32m--> 503\u001b[0;31m             \u001b[0mresult\u001b[0m \u001b[0;34m=\u001b[0m \u001b[0mfunc\u001b[0m\u001b[0;34m(\u001b[0m\u001b[0;34m*\u001b[0m\u001b[0margs\u001b[0m\u001b[0;34m)\u001b[0m\u001b[0;34m\u001b[0m\u001b[0;34m\u001b[0m\u001b[0m\n\u001b[0m\u001b[1;32m    504\u001b[0m             \u001b[0;32mif\u001b[0m \u001b[0mresult\u001b[0m \u001b[0;32mis\u001b[0m \u001b[0;32mnot\u001b[0m \u001b[0;32mNone\u001b[0m\u001b[0;34m:\u001b[0m\u001b[0;34m\u001b[0m\u001b[0;34m\u001b[0m\u001b[0m\n\u001b[1;32m    505\u001b[0m                 \u001b[0;32mreturn\u001b[0m \u001b[0mresult\u001b[0m\u001b[0;34m\u001b[0m\u001b[0;34m\u001b[0m\u001b[0m\n",
      "\u001b[0;32m~/anaconda3/lib/python3.7/urllib/request.py\u001b[0m in \u001b[0;36mhttp_error_302\u001b[0;34m(self, req, fp, code, msg, headers)\u001b[0m\n\u001b[1;32m    753\u001b[0m         \u001b[0mfp\u001b[0m\u001b[0;34m.\u001b[0m\u001b[0mclose\u001b[0m\u001b[0;34m(\u001b[0m\u001b[0;34m)\u001b[0m\u001b[0;34m\u001b[0m\u001b[0;34m\u001b[0m\u001b[0m\n\u001b[1;32m    754\u001b[0m \u001b[0;34m\u001b[0m\u001b[0m\n\u001b[0;32m--> 755\u001b[0;31m         \u001b[0;32mreturn\u001b[0m \u001b[0mself\u001b[0m\u001b[0;34m.\u001b[0m\u001b[0mparent\u001b[0m\u001b[0;34m.\u001b[0m\u001b[0mopen\u001b[0m\u001b[0;34m(\u001b[0m\u001b[0mnew\u001b[0m\u001b[0;34m,\u001b[0m \u001b[0mtimeout\u001b[0m\u001b[0;34m=\u001b[0m\u001b[0mreq\u001b[0m\u001b[0;34m.\u001b[0m\u001b[0mtimeout\u001b[0m\u001b[0;34m)\u001b[0m\u001b[0;34m\u001b[0m\u001b[0;34m\u001b[0m\u001b[0m\n\u001b[0m\u001b[1;32m    756\u001b[0m \u001b[0;34m\u001b[0m\u001b[0m\n\u001b[1;32m    757\u001b[0m     \u001b[0mhttp_error_301\u001b[0m \u001b[0;34m=\u001b[0m \u001b[0mhttp_error_303\u001b[0m \u001b[0;34m=\u001b[0m \u001b[0mhttp_error_307\u001b[0m \u001b[0;34m=\u001b[0m \u001b[0mhttp_error_302\u001b[0m\u001b[0;34m\u001b[0m\u001b[0;34m\u001b[0m\u001b[0m\n",
      "\u001b[0;32m~/anaconda3/lib/python3.7/urllib/request.py\u001b[0m in \u001b[0;36mopen\u001b[0;34m(self, fullurl, data, timeout)\u001b[0m\n\u001b[1;32m    529\u001b[0m         \u001b[0;32mfor\u001b[0m \u001b[0mprocessor\u001b[0m \u001b[0;32min\u001b[0m \u001b[0mself\u001b[0m\u001b[0;34m.\u001b[0m\u001b[0mprocess_response\u001b[0m\u001b[0;34m.\u001b[0m\u001b[0mget\u001b[0m\u001b[0;34m(\u001b[0m\u001b[0mprotocol\u001b[0m\u001b[0;34m,\u001b[0m \u001b[0;34m[\u001b[0m\u001b[0;34m]\u001b[0m\u001b[0;34m)\u001b[0m\u001b[0;34m:\u001b[0m\u001b[0;34m\u001b[0m\u001b[0;34m\u001b[0m\u001b[0m\n\u001b[1;32m    530\u001b[0m             \u001b[0mmeth\u001b[0m \u001b[0;34m=\u001b[0m \u001b[0mgetattr\u001b[0m\u001b[0;34m(\u001b[0m\u001b[0mprocessor\u001b[0m\u001b[0;34m,\u001b[0m \u001b[0mmeth_name\u001b[0m\u001b[0;34m)\u001b[0m\u001b[0;34m\u001b[0m\u001b[0;34m\u001b[0m\u001b[0m\n\u001b[0;32m--> 531\u001b[0;31m             \u001b[0mresponse\u001b[0m \u001b[0;34m=\u001b[0m \u001b[0mmeth\u001b[0m\u001b[0;34m(\u001b[0m\u001b[0mreq\u001b[0m\u001b[0;34m,\u001b[0m \u001b[0mresponse\u001b[0m\u001b[0;34m)\u001b[0m\u001b[0;34m\u001b[0m\u001b[0;34m\u001b[0m\u001b[0m\n\u001b[0m\u001b[1;32m    532\u001b[0m \u001b[0;34m\u001b[0m\u001b[0m\n\u001b[1;32m    533\u001b[0m         \u001b[0;32mreturn\u001b[0m \u001b[0mresponse\u001b[0m\u001b[0;34m\u001b[0m\u001b[0;34m\u001b[0m\u001b[0m\n",
      "\u001b[0;32m~/anaconda3/lib/python3.7/urllib/request.py\u001b[0m in \u001b[0;36mhttp_response\u001b[0;34m(self, request, response)\u001b[0m\n\u001b[1;32m    639\u001b[0m         \u001b[0;32mif\u001b[0m \u001b[0;32mnot\u001b[0m \u001b[0;34m(\u001b[0m\u001b[0;36m200\u001b[0m \u001b[0;34m<=\u001b[0m \u001b[0mcode\u001b[0m \u001b[0;34m<\u001b[0m \u001b[0;36m300\u001b[0m\u001b[0;34m)\u001b[0m\u001b[0;34m:\u001b[0m\u001b[0;34m\u001b[0m\u001b[0;34m\u001b[0m\u001b[0m\n\u001b[1;32m    640\u001b[0m             response = self.parent.error(\n\u001b[0;32m--> 641\u001b[0;31m                 'http', request, response, code, msg, hdrs)\n\u001b[0m\u001b[1;32m    642\u001b[0m \u001b[0;34m\u001b[0m\u001b[0m\n\u001b[1;32m    643\u001b[0m         \u001b[0;32mreturn\u001b[0m \u001b[0mresponse\u001b[0m\u001b[0;34m\u001b[0m\u001b[0;34m\u001b[0m\u001b[0m\n",
      "\u001b[0;32m~/anaconda3/lib/python3.7/urllib/request.py\u001b[0m in \u001b[0;36merror\u001b[0;34m(self, proto, *args)\u001b[0m\n\u001b[1;32m    567\u001b[0m         \u001b[0;32mif\u001b[0m \u001b[0mhttp_err\u001b[0m\u001b[0;34m:\u001b[0m\u001b[0;34m\u001b[0m\u001b[0;34m\u001b[0m\u001b[0m\n\u001b[1;32m    568\u001b[0m             \u001b[0margs\u001b[0m \u001b[0;34m=\u001b[0m \u001b[0;34m(\u001b[0m\u001b[0mdict\u001b[0m\u001b[0;34m,\u001b[0m \u001b[0;34m'default'\u001b[0m\u001b[0;34m,\u001b[0m \u001b[0;34m'http_error_default'\u001b[0m\u001b[0;34m)\u001b[0m \u001b[0;34m+\u001b[0m \u001b[0morig_args\u001b[0m\u001b[0;34m\u001b[0m\u001b[0;34m\u001b[0m\u001b[0m\n\u001b[0;32m--> 569\u001b[0;31m             \u001b[0;32mreturn\u001b[0m \u001b[0mself\u001b[0m\u001b[0;34m.\u001b[0m\u001b[0m_call_chain\u001b[0m\u001b[0;34m(\u001b[0m\u001b[0;34m*\u001b[0m\u001b[0margs\u001b[0m\u001b[0;34m)\u001b[0m\u001b[0;34m\u001b[0m\u001b[0;34m\u001b[0m\u001b[0m\n\u001b[0m\u001b[1;32m    570\u001b[0m \u001b[0;34m\u001b[0m\u001b[0m\n\u001b[1;32m    571\u001b[0m \u001b[0;31m# XXX probably also want an abstract factory that knows when it makes\u001b[0m\u001b[0;34m\u001b[0m\u001b[0;34m\u001b[0m\u001b[0;34m\u001b[0m\u001b[0m\n",
      "\u001b[0;32m~/anaconda3/lib/python3.7/urllib/request.py\u001b[0m in \u001b[0;36m_call_chain\u001b[0;34m(self, chain, kind, meth_name, *args)\u001b[0m\n\u001b[1;32m    501\u001b[0m         \u001b[0;32mfor\u001b[0m \u001b[0mhandler\u001b[0m \u001b[0;32min\u001b[0m \u001b[0mhandlers\u001b[0m\u001b[0;34m:\u001b[0m\u001b[0;34m\u001b[0m\u001b[0;34m\u001b[0m\u001b[0m\n\u001b[1;32m    502\u001b[0m             \u001b[0mfunc\u001b[0m \u001b[0;34m=\u001b[0m \u001b[0mgetattr\u001b[0m\u001b[0;34m(\u001b[0m\u001b[0mhandler\u001b[0m\u001b[0;34m,\u001b[0m \u001b[0mmeth_name\u001b[0m\u001b[0;34m)\u001b[0m\u001b[0;34m\u001b[0m\u001b[0;34m\u001b[0m\u001b[0m\n\u001b[0;32m--> 503\u001b[0;31m             \u001b[0mresult\u001b[0m \u001b[0;34m=\u001b[0m \u001b[0mfunc\u001b[0m\u001b[0;34m(\u001b[0m\u001b[0;34m*\u001b[0m\u001b[0margs\u001b[0m\u001b[0;34m)\u001b[0m\u001b[0;34m\u001b[0m\u001b[0;34m\u001b[0m\u001b[0m\n\u001b[0m\u001b[1;32m    504\u001b[0m             \u001b[0;32mif\u001b[0m \u001b[0mresult\u001b[0m \u001b[0;32mis\u001b[0m \u001b[0;32mnot\u001b[0m \u001b[0;32mNone\u001b[0m\u001b[0;34m:\u001b[0m\u001b[0;34m\u001b[0m\u001b[0;34m\u001b[0m\u001b[0m\n\u001b[1;32m    505\u001b[0m                 \u001b[0;32mreturn\u001b[0m \u001b[0mresult\u001b[0m\u001b[0;34m\u001b[0m\u001b[0;34m\u001b[0m\u001b[0m\n",
      "\u001b[0;32m~/anaconda3/lib/python3.7/urllib/request.py\u001b[0m in \u001b[0;36mhttp_error_default\u001b[0;34m(self, req, fp, code, msg, hdrs)\u001b[0m\n\u001b[1;32m    647\u001b[0m \u001b[0;32mclass\u001b[0m \u001b[0mHTTPDefaultErrorHandler\u001b[0m\u001b[0;34m(\u001b[0m\u001b[0mBaseHandler\u001b[0m\u001b[0;34m)\u001b[0m\u001b[0;34m:\u001b[0m\u001b[0;34m\u001b[0m\u001b[0;34m\u001b[0m\u001b[0m\n\u001b[1;32m    648\u001b[0m     \u001b[0;32mdef\u001b[0m \u001b[0mhttp_error_default\u001b[0m\u001b[0;34m(\u001b[0m\u001b[0mself\u001b[0m\u001b[0;34m,\u001b[0m \u001b[0mreq\u001b[0m\u001b[0;34m,\u001b[0m \u001b[0mfp\u001b[0m\u001b[0;34m,\u001b[0m \u001b[0mcode\u001b[0m\u001b[0;34m,\u001b[0m \u001b[0mmsg\u001b[0m\u001b[0;34m,\u001b[0m \u001b[0mhdrs\u001b[0m\u001b[0;34m)\u001b[0m\u001b[0;34m:\u001b[0m\u001b[0;34m\u001b[0m\u001b[0;34m\u001b[0m\u001b[0m\n\u001b[0;32m--> 649\u001b[0;31m         \u001b[0;32mraise\u001b[0m \u001b[0mHTTPError\u001b[0m\u001b[0;34m(\u001b[0m\u001b[0mreq\u001b[0m\u001b[0;34m.\u001b[0m\u001b[0mfull_url\u001b[0m\u001b[0;34m,\u001b[0m \u001b[0mcode\u001b[0m\u001b[0;34m,\u001b[0m \u001b[0mmsg\u001b[0m\u001b[0;34m,\u001b[0m \u001b[0mhdrs\u001b[0m\u001b[0;34m,\u001b[0m \u001b[0mfp\u001b[0m\u001b[0;34m)\u001b[0m\u001b[0;34m\u001b[0m\u001b[0;34m\u001b[0m\u001b[0m\n\u001b[0m\u001b[1;32m    650\u001b[0m \u001b[0;34m\u001b[0m\u001b[0m\n\u001b[1;32m    651\u001b[0m \u001b[0;32mclass\u001b[0m \u001b[0mHTTPRedirectHandler\u001b[0m\u001b[0;34m(\u001b[0m\u001b[0mBaseHandler\u001b[0m\u001b[0;34m)\u001b[0m\u001b[0;34m:\u001b[0m\u001b[0;34m\u001b[0m\u001b[0;34m\u001b[0m\u001b[0m\n",
      "\u001b[0;31mHTTPError\u001b[0m: HTTP Error 500: Internal Server Error"
     ]
    }
   ],
   "source": [
    "plotdir = cwd+\"/plots/\"\n",
    "i = 0\n",
    "#while i < 10:\n",
    "for i in range(20):\n",
    "    \n",
    "    ra = apps['OCra'][i]\n",
    "    dec = apps['OCdec'][i]\n",
    "    galname = 'AGC'+str(apps['agcnum'][i])\n",
    "    \n",
    "    display_legacy_unwise(ra,dec,galname,imsize_arcsec=60,plotdir=plotdir)\n",
    "\n",
    "    "
   ]
  },
  {
   "cell_type": "code",
   "execution_count": null,
   "metadata": {},
   "outputs": [],
   "source": []
  },
  {
   "cell_type": "markdown",
   "metadata": {},
   "source": [
    "# Code to download a WISE image"
   ]
  },
  {
   "cell_type": "code",
   "execution_count": null,
   "metadata": {},
   "outputs": [],
   "source": [
    "# set image size\n",
    "imsize_arcsec = 120 # length/width of image in arcseconds\n",
    "imsize_pixels_legacy = round(imsize_arcsec/LEGACY_PIXSCALE)\n",
    "imsize_pixels_unwise = round(imsize_arcsec/UNWISE_PIXSCALE)"
   ]
  },
  {
   "cell_type": "code",
   "execution_count": null,
   "metadata": {},
   "outputs": [],
   "source": [
    "\n",
    "t = get_unwise_image(ra,dec,galid=galname,makeplots=False,imsize=str(imsize_pixels_unwise))\n",
    "imagefiles = t[0]\n",
    "noisefiles = t[1]\n",
    "imagefiles.sort()\n",
    "noisefiles.sort()"
   ]
  },
  {
   "cell_type": "markdown",
   "metadata": {},
   "source": [
    "# Code to download legacy images"
   ]
  },
  {
   "cell_type": "code",
   "execution_count": null,
   "metadata": {},
   "outputs": [],
   "source": [
    "bands = ['g','r','z']\n",
    "legimfiles = []\n",
    "\n",
    "for i,b in enumerate(bands):\n",
    "    if i == 0:\n",
    "        # only need to download this once\n",
    "        getjpg = True\n",
    "    else:\n",
    "        getjpg = False\n",
    "    t = get_legacy_images(ra,dec,galid=galname,band=b,makeplots=False,imsize=str(imsize_pixels_legacy))\n",
    "    if i == 0:\n",
    "        legimfiles.append(t[0])\n",
    "        legjpgfile = t[1]\n",
    "    else:\n",
    "        legimfiles.append(t[0])\n",
    "print(legimfiles)\n",
    "print(legjpgfile)"
   ]
  },
  {
   "cell_type": "markdown",
   "metadata": {},
   "source": [
    "# Plot cutouts"
   ]
  },
  {
   "cell_type": "code",
   "execution_count": null,
   "metadata": {},
   "outputs": [],
   "source": [
    "# make a plot\n",
    "plt.figure(figsize=(12,6.5))\n",
    "\n",
    "# concatinate lists\n",
    "legacy_images = [legjpgfile]+legimfiles\n",
    "imnames = ['grz','g','r','z']\n",
    "# plot legacy images in top row\n",
    "for i,im in enumerate(legacy_images):\n",
    "    plt.subplot(2,4,i+1)\n",
    "    if i == 0:\n",
    "        # display jpg\n",
    "        t = Image.open(im)\n",
    "        plt.imshow(t,origin='upper')\n",
    "    else:\n",
    "        data = fits.getdata(im)\n",
    "        display_image(data,lowrange=False,percent=95)\n",
    "    plt.title(imnames[i],fontsize=14)\n",
    "\n",
    "# plot WISE images\n",
    "imnames = ['W1','W2','W3','W4']\n",
    "for i,im in enumerate(imagefiles):\n",
    "    plt.subplot(2,4,4+i+1)\n",
    "    data = fits.getdata(im)\n",
    "    display_image(data,percent=92)\n",
    "    plt.title(imnames[i],fontsize=14)"
   ]
  },
  {
   "cell_type": "code",
   "execution_count": null,
   "metadata": {},
   "outputs": [],
   "source": []
  },
  {
   "cell_type": "code",
   "execution_count": null,
   "metadata": {},
   "outputs": [],
   "source": []
  }
 ],
 "metadata": {
  "kernelspec": {
   "display_name": "Python 3",
   "language": "python",
   "name": "python3"
  },
  "language_info": {
   "codemirror_mode": {
    "name": "ipython",
    "version": 3
   },
   "file_extension": ".py",
   "mimetype": "text/x-python",
   "name": "python",
   "nbconvert_exporter": "python",
   "pygments_lexer": "ipython3",
   "version": "3.7.4"
  }
 },
 "nbformat": 4,
 "nbformat_minor": 2
}
